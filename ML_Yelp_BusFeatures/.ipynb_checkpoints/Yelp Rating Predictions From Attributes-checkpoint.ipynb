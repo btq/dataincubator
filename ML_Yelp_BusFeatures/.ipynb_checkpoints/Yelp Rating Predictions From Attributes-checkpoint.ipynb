{
 "cells": [
  {
   "cell_type": "markdown",
   "metadata": {},
   "source": [
    "## Machine Learning to Predict Yelp Ratings from Attributes\n",
    "\n",
    "The goal of this project is to explore the power of Yelp metadata attributes to predict the rating of a venue. Yelp collects a lot of data on businesses (See [Yelp Developer Docs](https://www.yelp.com/developers/documentation/v2/business)). I will focus on:\n",
    "\n",
    "* city - city in which the business resides\n",
    "* longitude & latitude - coordinates of business\n",
    "* categories - provides a list of catogories the business is associated with\n",
    "* attributes - a list of various features (Take Out, Waiter Service, Alcohol, etc.)\n",
    "\n"
   ]
  },
  {
   "cell_type": "code",
   "execution_count": 1,
   "metadata": {
    "collapsed": true
   },
   "outputs": [],
   "source": [
    "import re\n",
    "import gzip\n",
    "import simplejson\n",
    "import pandas as pd\n",
    "import numpy as np"
   ]
  },
  {
   "cell_type": "code",
   "execution_count": null,
   "metadata": {
    "collapsed": true
   },
   "outputs": [],
   "source": [
    "data=gzip.open('yelp_train_academic_dataset_business.json.gz')\n",
    "data_contents = data.read()\n",
    "data.close()\n",
    "lines = re.split('\\n',data_contents)\n",
    "json_data = [simplejson.loads(line) for line in lines[:-1]]\n",
    "df = pd.DataFrame(json_data)\n",
    "data_dict = [dict(df.iloc[i]) for i in xrange(len(df))]\n",
    "df.head(2)"
   ]
  }
 ],
 "metadata": {
  "kernelspec": {
   "display_name": "Python 2",
   "language": "python",
   "name": "python2"
  },
  "language_info": {
   "codemirror_mode": {
    "name": "ipython",
    "version": 2
   },
   "file_extension": ".py",
   "mimetype": "text/x-python",
   "name": "python",
   "nbconvert_exporter": "python",
   "pygments_lexer": "ipython2",
   "version": "2.7.6"
  }
 },
 "nbformat": 4,
 "nbformat_minor": 0
}
