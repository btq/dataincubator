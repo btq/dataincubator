{
 "cells": [
  {
   "cell_type": "markdown",
   "metadata": {},
   "source": [
    "## Machine Learning to Predict Yelp Ratings from Attributes\n",
    "\n",
    "The goal of this project is to explore the power of Yelp metadata attributes to predict the rating of a venue. Yelp collects a lot of data on businesses (See [Yelp Developer Docs](https://www.yelp.com/developers/documentation/v2/business)). I will focus on:\n",
    "\n",
    "* city - city in which the business resides\n",
    "* longitude & latitude - coordinates of business\n",
    "* categories - provides a list of catogories the business is associated with\n",
    "* attributes - a list of various features (Take Out, Waiter Service, Alcohol, etc.)\n",
    "\n",
    "How predictive are the 'characteristics' of the restaurant for star ratings?"
   ]
  },
  {
   "cell_type": "code",
   "execution_count": 1,
   "metadata": {
    "collapsed": false
   },
   "outputs": [
    {
     "name": "stderr",
     "output_type": "stream",
     "text": [
      "/usr/local/lib/python2.7/dist-packages/matplotlib/__init__.py:872: UserWarning: axes.color_cycle is deprecated and replaced with axes.prop_cycle; please use the latter.\n",
      "  warnings.warn(self.msg_depr % (key, alt_key))\n"
     ]
    }
   ],
   "source": [
    "import pandas as pd\n",
    "import gzip\n",
    "import simplejson\n",
    "import re\n",
    "from sklearn.cross_validation import train_test_split\n",
    "import matplotlib\n",
    "import seaborn as sns\n",
    "from sklearn import metrics\n",
    "import matplotlib.pylab as plt\n",
    "import sklearn\n",
    "import numpy as np\n",
    "from sklearn import base\n",
    "from sklearn.externals import joblib\n",
    "from sklearn import neighbors, cross_validation, grid_search\n",
    "import matplotlib.pylab as plt\n",
    "from sklearn.feature_extraction import DictVectorizer\n",
    "from sklearn.feature_extraction.text import TfidfTransformer\n",
    "from sklearn import linear_model\n",
    "\n",
    "plt.style.use('ggplot')\n",
    "%matplotlib inline\n",
    "pd.options.display.max_columns=25"
   ]
  },
  {
   "cell_type": "code",
   "execution_count": 2,
   "metadata": {
    "collapsed": true
   },
   "outputs": [],
   "source": [
    "data = gzip.open('yelp_train_academic_dataset_business.json.gz')\n",
    "data_content = data.read()\n",
    "data.close()\n",
    "lines= re.split('\\n',data_content)"
   ]
  },
  {
   "cell_type": "code",
   "execution_count": 2,
   "metadata": {
    "collapsed": false
   },
   "outputs": [
    {
     "data": {
      "text/html": [
       "<div>\n",
       "<table border=\"1\" class=\"dataframe\">\n",
       "  <thead>\n",
       "    <tr style=\"text-align: right;\">\n",
       "      <th></th>\n",
       "      <th>attributes</th>\n",
       "      <th>business_id</th>\n",
       "      <th>categories</th>\n",
       "      <th>city</th>\n",
       "      <th>full_address</th>\n",
       "      <th>hours</th>\n",
       "      <th>latitude</th>\n",
       "      <th>longitude</th>\n",
       "      <th>name</th>\n",
       "      <th>neighborhoods</th>\n",
       "      <th>open</th>\n",
       "      <th>review_count</th>\n",
       "      <th>stars</th>\n",
       "      <th>state</th>\n",
       "      <th>type</th>\n",
       "    </tr>\n",
       "  </thead>\n",
       "  <tbody>\n",
       "    <tr>\n",
       "      <th>0</th>\n",
       "      <td>{u'By Appointment Only': True}</td>\n",
       "      <td>vcNAWiLM4dR7D2nwwJ7nCA</td>\n",
       "      <td>[Doctors, Health &amp; Medical]</td>\n",
       "      <td>Phoenix</td>\n",
       "      <td>4840 E Indian School Rd\\nSte 101\\nPhoenix, AZ ...</td>\n",
       "      <td>{u'Thursday': {u'close': u'17:00', u'open': u'...</td>\n",
       "      <td>33.499313</td>\n",
       "      <td>-111.983758</td>\n",
       "      <td>Eric Goldberg, MD</td>\n",
       "      <td>[]</td>\n",
       "      <td>True</td>\n",
       "      <td>7</td>\n",
       "      <td>3.5</td>\n",
       "      <td>AZ</td>\n",
       "      <td>business</td>\n",
       "    </tr>\n",
       "    <tr>\n",
       "      <th>1</th>\n",
       "      <td>{u'Take-out': True, u'Price Range': 1, u'Outdo...</td>\n",
       "      <td>JwUE5GmEO-sH1FuwJgKBlQ</td>\n",
       "      <td>[Restaurants]</td>\n",
       "      <td>De Forest</td>\n",
       "      <td>6162 US Highway 51\\nDe Forest, WI 53532</td>\n",
       "      <td>{}</td>\n",
       "      <td>43.238893</td>\n",
       "      <td>-89.335844</td>\n",
       "      <td>Pine Cone Restaurant</td>\n",
       "      <td>[]</td>\n",
       "      <td>True</td>\n",
       "      <td>26</td>\n",
       "      <td>4.0</td>\n",
       "      <td>WI</td>\n",
       "      <td>business</td>\n",
       "    </tr>\n",
       "    <tr>\n",
       "      <th>2</th>\n",
       "      <td>{u'Take-out': True, u'Outdoor Seating': False,...</td>\n",
       "      <td>uGykseHzyS5xAMWoN6YUqA</td>\n",
       "      <td>[American (Traditional), Restaurants]</td>\n",
       "      <td>De Forest</td>\n",
       "      <td>505 W North St\\nDe Forest, WI 53532</td>\n",
       "      <td>{u'Monday': {u'close': u'22:00', u'open': u'06...</td>\n",
       "      <td>43.252267</td>\n",
       "      <td>-89.353437</td>\n",
       "      <td>Deforest Family Restaurant</td>\n",
       "      <td>[]</td>\n",
       "      <td>True</td>\n",
       "      <td>16</td>\n",
       "      <td>4.0</td>\n",
       "      <td>WI</td>\n",
       "      <td>business</td>\n",
       "    </tr>\n",
       "    <tr>\n",
       "      <th>3</th>\n",
       "      <td>{u'Take-out': True, u'Accepts Credit Cards': T...</td>\n",
       "      <td>LRKJF43s9-3jG9Lgx4zODg</td>\n",
       "      <td>[Food, Ice Cream &amp; Frozen Yogurt, Fast Food, R...</td>\n",
       "      <td>De Forest</td>\n",
       "      <td>4910 County Rd V\\nDe Forest, WI 53532</td>\n",
       "      <td>{u'Monday': {u'close': u'22:00', u'open': u'10...</td>\n",
       "      <td>43.251045</td>\n",
       "      <td>-89.374983</td>\n",
       "      <td>Culver's</td>\n",
       "      <td>[]</td>\n",
       "      <td>True</td>\n",
       "      <td>7</td>\n",
       "      <td>4.5</td>\n",
       "      <td>WI</td>\n",
       "      <td>business</td>\n",
       "    </tr>\n",
       "    <tr>\n",
       "      <th>4</th>\n",
       "      <td>{u'Take-out': True, u'Has TV': False, u'Outdoo...</td>\n",
       "      <td>RgDg-k9S5YD_BaxMckifkg</td>\n",
       "      <td>[Chinese, Restaurants]</td>\n",
       "      <td>De Forest</td>\n",
       "      <td>631 S Main St\\nDe Forest, WI 53532</td>\n",
       "      <td>{u'Monday': {u'close': u'22:00', u'open': u'11...</td>\n",
       "      <td>43.240875</td>\n",
       "      <td>-89.343722</td>\n",
       "      <td>Chang Jiang Chinese Kitchen</td>\n",
       "      <td>[]</td>\n",
       "      <td>True</td>\n",
       "      <td>3</td>\n",
       "      <td>4.0</td>\n",
       "      <td>WI</td>\n",
       "      <td>business</td>\n",
       "    </tr>\n",
       "  </tbody>\n",
       "</table>\n",
       "</div>"
      ],
      "text/plain": [
       "                                          attributes             business_id  \\\n",
       "0                     {u'By Appointment Only': True}  vcNAWiLM4dR7D2nwwJ7nCA   \n",
       "1  {u'Take-out': True, u'Price Range': 1, u'Outdo...  JwUE5GmEO-sH1FuwJgKBlQ   \n",
       "2  {u'Take-out': True, u'Outdoor Seating': False,...  uGykseHzyS5xAMWoN6YUqA   \n",
       "3  {u'Take-out': True, u'Accepts Credit Cards': T...  LRKJF43s9-3jG9Lgx4zODg   \n",
       "4  {u'Take-out': True, u'Has TV': False, u'Outdoo...  RgDg-k9S5YD_BaxMckifkg   \n",
       "\n",
       "                                          categories       city  \\\n",
       "0                        [Doctors, Health & Medical]    Phoenix   \n",
       "1                                      [Restaurants]  De Forest   \n",
       "2              [American (Traditional), Restaurants]  De Forest   \n",
       "3  [Food, Ice Cream & Frozen Yogurt, Fast Food, R...  De Forest   \n",
       "4                             [Chinese, Restaurants]  De Forest   \n",
       "\n",
       "                                        full_address  \\\n",
       "0  4840 E Indian School Rd\\nSte 101\\nPhoenix, AZ ...   \n",
       "1            6162 US Highway 51\\nDe Forest, WI 53532   \n",
       "2                505 W North St\\nDe Forest, WI 53532   \n",
       "3              4910 County Rd V\\nDe Forest, WI 53532   \n",
       "4                 631 S Main St\\nDe Forest, WI 53532   \n",
       "\n",
       "                                               hours   latitude   longitude  \\\n",
       "0  {u'Thursday': {u'close': u'17:00', u'open': u'...  33.499313 -111.983758   \n",
       "1                                                 {}  43.238893  -89.335844   \n",
       "2  {u'Monday': {u'close': u'22:00', u'open': u'06...  43.252267  -89.353437   \n",
       "3  {u'Monday': {u'close': u'22:00', u'open': u'10...  43.251045  -89.374983   \n",
       "4  {u'Monday': {u'close': u'22:00', u'open': u'11...  43.240875  -89.343722   \n",
       "\n",
       "                          name neighborhoods  open  review_count  stars state  \\\n",
       "0            Eric Goldberg, MD            []  True             7    3.5    AZ   \n",
       "1         Pine Cone Restaurant            []  True            26    4.0    WI   \n",
       "2   Deforest Family Restaurant            []  True            16    4.0    WI   \n",
       "3                     Culver's            []  True             7    4.5    WI   \n",
       "4  Chang Jiang Chinese Kitchen            []  True             3    4.0    WI   \n",
       "\n",
       "       type  \n",
       "0  business  \n",
       "1  business  \n",
       "2  business  \n",
       "3  business  \n",
       "4  business  "
      ]
     },
     "execution_count": 2,
     "metadata": {},
     "output_type": "execute_result"
    }
   ],
   "source": [
    "json_data = [simplejson.loads(line) for line in lines[:-1]]\n",
    "df = pd.DataFrame(json_data)\n",
    "data_as_dict = [dict(df.iloc[i]) for i in xrange(len(df))]\n",
    "df[:5]"
   ]
  },
  {
   "cell_type": "code",
   "execution_count": 3,
   "metadata": {
    "collapsed": false
   },
   "outputs": [
    {
     "name": "stdout",
     "output_type": "stream",
     "text": [
      "(37938, 15)\n"
     ]
    }
   ],
   "source": [
    "print df.shape"
   ]
  },
  {
   "cell_type": "markdown",
   "metadata": {},
   "source": [
    "Above, we can see the structure of the data. The 5 categories I will use are attributes, categories, city, latitude, longitude.  Notice that both attribues and categories have different lengths and may be nested (attributes in particular).\n",
    "\n",
    "### Transformers\n",
    "To make this data place nice in sklearn, I have constructed the following generic column transformer, category transformer, and attribute transformer."
   ]
  },
  {
   "cell_type": "code",
   "execution_count": 4,
   "metadata": {
    "collapsed": false
   },
   "outputs": [
    {
     "name": "stdout",
     "output_type": "stream",
     "text": [
      "[33.499313000000001, -111.98375799999999]\n"
     ]
    }
   ],
   "source": [
    "from sklearn.base import TransformerMixin\n",
    "\n",
    "class ColumnSelectTransformer(TransformerMixin):\n",
    "    '''\n",
    "    ColumnSelectTransformer provides a generic transformer to select columns from our input list/dict.\n",
    "    '''\n",
    "    def __init__(self, columns=None):\n",
    "        if columns:\n",
    "            self.columns = columns\n",
    "        else:\n",
    "            self.columns = ['business_id']\n",
    "    \n",
    "    def transform(self, record, *args, **transform_params):\n",
    "        if isinstance(record,dict):\n",
    "            #print 'received dict'\n",
    "            return [record[arg] for arg in self.columns]\n",
    "        elif isinstance(record,list):\n",
    "            #print 'received list'\n",
    "            return [[rec[arg] for arg in self.columns] for rec in record]\n",
    "        \n",
    "    def fit(self, X, y=None, **fit_params):\n",
    "        \n",
    "        return self\n",
    "        \n",
    "class CategoryTransformer(TransformerMixin):\n",
    "    '''\n",
    "    CategorySelectTransformer provides a transformer to select handle the category field\n",
    "    of our input data. There may be multiple, nested categories, this class builds an array of dictionaries \n",
    "    pointing to each category\n",
    "    '''    \n",
    "    def transform(self, record, *args, **transform_params):\n",
    "        if isinstance(record,dict):     \n",
    "            return dict([[cat, 1] for cat in record])\n",
    "        elif isinstance(record,list):\n",
    "            if len(record)==1:\n",
    "                return [dict([[cat, 1] for cat in rec]) for rec in record]\n",
    "            else:\n",
    "                return [dict([[cat, 1] for cat in rec]) for inner in record for rec in inner]\n",
    "                \n",
    "    def fit(self, X, y=None, **fit_params):        \n",
    "        return self\n",
    "        \n",
    "class ModelTransformer(TransformerMixin):\n",
    "    '''\n",
    "    ModelTransformer is a wrapper class to make an estimator act like a transformer\n",
    "    This 'transforms' the data by using predict from the model to transform the data\n",
    "    '''\n",
    "\n",
    "    def __init__(self, model, name):\n",
    "        self.model = model\n",
    "        self.name = name\n",
    "\n",
    "    def fit(self, *args, **kwargs):\n",
    "        #print 'FITTING!'\n",
    "        self.model.fit(*args, **kwargs)\n",
    "        return self\n",
    "\n",
    "    def transform(self, X, **transform_params):\n",
    "        return [self.model.predict(x) for x in X]\n",
    "        \n",
    "\n",
    "def unnest_attributes(att,outer_key=None):\n",
    "    '''\n",
    "    This recursive function seeks to unnest the attributes within the attribute meta data of yelp.\n",
    "    '''\n",
    "    mydict = {}\n",
    "    if not outer_key:\n",
    "        outer_key = ''\n",
    "    else:\n",
    "        outer_key += '_'\n",
    "        \n",
    "    for key in att.keys():\n",
    "        if isinstance(att[key],dict):\n",
    "            inner_dict = unnest_attributes(att[key],key)\n",
    "            for key in inner_dict.keys():\n",
    "                mydict[outer_key+key] = inner_dict[key]\n",
    "        else:\n",
    "            mydict[outer_key+key] = att[key]\n",
    "    \n",
    "    return mydict\n",
    "\n",
    "class AttributesTransformer(TransformerMixin):\n",
    "    '''\n",
    "    AttributesTransformer is a class to handle the attributes field.\n",
    "    \n",
    "    Attributes can be nested and there are often many for each venue.  This works with the unnest_attributes\n",
    "    function to build an array of dictionaries of attributes within the yelp dataset.\n",
    "    '''\n",
    "    def transform(self, record, *args, **transform_params):\n",
    "        if isinstance(record,dict):     \n",
    "            return unnest_attributes(record)\n",
    "        elif isinstance(record,list):\n",
    "            if len(record)==1:\n",
    "                return [unnest_attributes(rec) for rec in record]\n",
    "            else:\n",
    "                return [unnest_attributes(rec) for inner in record for rec in inner]\n",
    "                \n",
    "        \n",
    "    def fit(self, X, y=None, **fit_params):\n",
    "        \n",
    "        return self\n",
    "\n",
    "cst = ColumnSelectTransformer(columns=['latitude','longitude'])\n",
    "print cst.transform(data_as_dict[0])"
   ]
  },
  {
   "cell_type": "markdown",
   "metadata": {},
   "source": [
    "### City Predictor\n",
    "The first model I will try is the city predictor. It's a very simple model, where I return the mean value of stars in a given city.\n"
   ]
  },
  {
   "cell_type": "code",
   "execution_count": 5,
   "metadata": {
    "collapsed": true
   },
   "outputs": [],
   "source": [
    "from sklearn.base import BaseEstimator, RegressorMixin\n",
    "\n",
    "class CityMeanEstimator(BaseEstimator, RegressorMixin):\n",
    "    def __init__(self):\n",
    "        pass\n",
    "    \n",
    "    def fit(self,X,y):\n",
    "        X=[v[0] for v in X]\n",
    "        df=pd.DataFrame({'city': X, 'stars': y},columns=['city','stars'])\n",
    "        df['stars']=df['stars'].astype(float)\n",
    "        self.f = df.groupby('city').mean()\n",
    "        return self\n",
    "    \n",
    "    def predict(self, X):\n",
    "        X=[v[0] for v in X]\n",
    "        val=[]\n",
    "        for x in X:\n",
    "            if x in self.f.index:\n",
    "                val.append(x)\n",
    "            else:\n",
    "                val.append('Chandler')\n",
    "        return [x[0] for x in self.f.loc[val].values]\n",
    "\n",
    "from sklearn.pipeline import FeatureUnion, Pipeline        \n",
    "pipeline = Pipeline([\n",
    "  ('cst', ColumnSelectTransformer(columns=['city'])),\n",
    "  ('classifier', CityMeanEstimator())\n",
    "])"
   ]
  },
  {
   "cell_type": "markdown",
   "metadata": {},
   "source": [
    "There's my model above. I use the Pipeline feature of sklearn to transform my data for each model I create. This way, I can always input my full data, and have the pipeline select the features for me.\n",
    "\n",
    "Okay, I will split up the data into train and test set using `train_test_split`"
   ]
  },
  {
   "cell_type": "code",
   "execution_count": 6,
   "metadata": {
    "collapsed": true
   },
   "outputs": [],
   "source": [
    "data_train, data_test, stars_train, stars_test = cross_validation.train_test_split(data_as_dict, df['stars'], random_state=23)"
   ]
  },
  {
   "cell_type": "code",
   "execution_count": 7,
   "metadata": {
    "collapsed": false
   },
   "outputs": [
    {
     "data": {
      "text/plain": [
       "<matplotlib.legend.Legend at 0x7fc8ae505790>"
      ]
     },
     "execution_count": 7,
     "metadata": {},
     "output_type": "execute_result"
    },
    {
     "data": {
      "image/png": "[encoded data removed]",
      "text/plain": [
       "<matplotlib.figure.Figure at 0x7fc8ed641750>"
      ]
     },
     "metadata": {},
     "output_type": "display_data"
    }
   ],
   "source": [
    "#check our distributions of stars between train and test\n",
    "stars_train.hist( alpha=0.3 ,stacked=False,normed=True,color='red',bins=9)\n",
    "stars_test.hist( alpha=0.3 ,stacked=False,normed=True,color='blue',bins=9)\n",
    "plt.legend(['Train','Test'])"
   ]
  },
  {
   "cell_type": "markdown",
   "metadata": {},
   "source": [
    " Now, fit and score the model."
   ]
  },
  {
   "cell_type": "code",
   "execution_count": 8,
   "metadata": {
    "collapsed": false
   },
   "outputs": [
    {
     "name": "stdout",
     "output_type": "stream",
     "text": [
      "[3.6499816872176778, 3.585046066619419, 3.6655675459632295, 3.6361185983827493, 3.6499816872176778, 3.8244243421052633, 3.6655675459632295, 3.8080519480519479, 3.4166666666666665, 3.6499816872176778]\n",
      "[ 5.   4.   4.5  4.5  3.5  5.   4.   3.5  4.   5. ]\n",
      "0.00132602324228\n",
      "City Model RMSE:  0.885138625141\n",
      "City Model MAE:  0.711788533327\n",
      "City Model R^2:  0.00132602324228\n"
     ]
    }
   ],
   "source": [
    "from sklearn.metrics import r2_score, mean_squared_error, mean_absolute_error\n",
    "pipeline.fit(data_train, stars_train)\n",
    "\n",
    "print pipeline.predict(data_test[:10])\n",
    "print stars_test[:10].values\n",
    "score = pipeline.score(data_test,stars_test)\n",
    "print score\n",
    "preds = pipeline.predict(data_test)\n",
    "print 'City Model RMSE: ', mean_squared_error(stars_test,preds)**0.5\n",
    "print 'City Model MAE: ', mean_absolute_error(stars_test,preds)\n",
    "print 'City Model R^2: ', r2_score(stars_test,preds)"
   ]
  },
  {
   "cell_type": "markdown",
   "metadata": {},
   "source": [
    "Bunk! It has about zero predictive value. The score that is displayed is the $R^2$ coefficient of determination. The best possible score is 1.0, and lower values are worse. So we can see that this model is not very predictive. But did we really expect the city a business is in to be a factor? I know the old trope that the 3 most important things for a business are: \n",
    "1. location\n",
    "2. location\n",
    "3. location\n",
    "\n",
    "Well, city must not be specific enough. I will try latitude and longitude next. Perhaps it will be beter.\n",
    "\n",
    "### Longitude and Latitude K-Nearest Neighbors Regression Model\n",
    "The target is predicted by local interpolation of the values of its k nearest neighbors."
   ]
  },
  {
   "cell_type": "code",
   "execution_count": 9,
   "metadata": {
    "collapsed": false
   },
   "outputs": [
    {
     "name": "stdout",
     "output_type": "stream",
     "text": [
      "[ 4.1  3.8  4.   3.8  3.5  4.5  3.4  3.6  3.1  4.5]\n",
      "[ 5.   4.   4.5  4.5  3.5  5.   4.   3.5  4.   5. ]\n",
      "-0.0896369900153\n",
      "LatLong Model RMSE:  0.924571165323\n",
      "LatLong Model MAE:  0.733726937269\n",
      "LatLong Model R^2:  -0.0896369900153\n"
     ]
    }
   ],
   "source": [
    "#kn = neighbors.KNeighborsRegressor()\n",
    "pipeline = Pipeline([\n",
    "  ('cst', ColumnSelectTransformer(columns=['latitude','longitude'])),\n",
    "  ('classifier', neighbors.KNeighborsRegressor())\n",
    "])\n",
    "#latlon_train = cst.transform(data_train)\n",
    "#kn.fit(latlon_train,stars_train)\n",
    "#latlon_test = cst.transform(data_test)\n",
    "#score = kn.score(latlon_test,stars_test)\n",
    "pipeline.fit(data_train, stars_train)\n",
    "\n",
    "print pipeline.predict(data_test[:10])\n",
    "print stars_test[:10].values\n",
    "score = pipeline.score(data_test,stars_test)\n",
    "print score\n",
    "preds = pipeline.predict(data_test)\n",
    "print 'LatLong Model RMSE: ', mean_squared_error(stars_test,preds)**0.5\n",
    "print 'LatLong Model MAE: ', mean_absolute_error(stars_test,preds)\n",
    "print 'LatLong Model R^2: ', r2_score(stars_test,preds)"
   ]
  },
  {
   "cell_type": "markdown",
   "metadata": {},
   "source": [
    "I need to tune this model to improve the score. I will use `GridSearchCV` with a `ShuffleSplit` cross validation"
   ]
  },
  {
   "cell_type": "code",
   "execution_count": 10,
   "metadata": {
    "collapsed": false
   },
   "outputs": [
    {
     "data": {
      "text/plain": [
       "KNeighborsRegressor(algorithm='auto', leaf_size=30, metric='minkowski',\n",
       "          metric_params=None, n_jobs=1, n_neighbors=85, p=2,\n",
       "          weights='uniform')"
      ]
     },
     "execution_count": 10,
     "metadata": {},
     "output_type": "execute_result"
    }
   ],
   "source": [
    "latlon = df.loc[:,['latitude','longitude']]\n",
    "cv = cross_validation.ShuffleSplit(len(df['stars']), n_iter=20, test_size=0.2, random_state=23)\n",
    "param_grid = { \"n_neighbors\": range(80, 100, 5)}\n",
    "nearest_neighbors_cv = grid_search.GridSearchCV(neighbors.KNeighborsRegressor(), param_grid=param_grid, cv=cv)\n",
    "nearest_neighbors_cv.fit(latlon,df['stars'])\n",
    "nearest_neighbors_cv.best_estimator_"
   ]
  },
  {
   "cell_type": "markdown",
   "metadata": {},
   "source": [
    "The best estimator uses 85 neighbors by default for k_neighbors queries."
   ]
  },
  {
   "cell_type": "code",
   "execution_count": 11,
   "metadata": {
    "collapsed": false
   },
   "outputs": [
    {
     "name": "stdout",
     "output_type": "stream",
     "text": [
      "0.0248118636604\n",
      "LatLong GridCV Model RMSE:  0.874668790703\n",
      "LatLong GridCV Model MAE:  0.699430680021\n",
      "LatLong GridCV Model R^2:  0.0248118636604\n"
     ]
    }
   ],
   "source": [
    "pipeline = Pipeline([\n",
    "  ('cst', ColumnSelectTransformer(columns=['latitude','longitude'])),\n",
    "  ('classifier', nearest_neighbors_cv.best_estimator_)\n",
    "])\n",
    "\n",
    "pipeline.fit(data_train, stars_train)\n",
    "score = pipeline.score(data_test,stars_test)\n",
    "print score\n",
    "preds = pipeline.predict(data_test)\n",
    "print 'LatLong GridCV Model RMSE: ', mean_squared_error(stars_test,preds)**0.5\n",
    "print 'LatLong GridCV Model MAE: ', mean_absolute_error(stars_test,preds)\n",
    "print 'LatLong GridCV Model R^2: ', r2_score(stars_test,preds)"
   ]
  },
  {
   "cell_type": "markdown",
   "metadata": {},
   "source": [
    "The predictive power of latitude and longitude alone is fairly poor. So much for location.\n",
    "\n",
    "### Categories TF-IDF Linear Regression\n",
    "Do categories have predicitive value? Might a dentist office score lower than a spa?\n",
    "\n",
    "I will make a pipeline of the following transformations and estimation:\n",
    "\n",
    "1. `ColumnSelectTransformer` for 'categories'\n",
    "\n",
    "2. `CategoryTransformer` to parse the yelp category data\n",
    "\n",
    "3. `DictVectorizer` - Convert categories to numbers for use in sklearn estimators\n",
    "\n",
    "4. `TfidfTransformer` - Normalize categories based upon term frequency - inverse document frequency (TF-IDF) which lessens the influence of common words (high document frequency) and increases local frequency usage (term frequency)\n",
    "\n",
    "5. `LinearRegression` - Predict stars based on the output of TF-IDF\n"
   ]
  },
  {
   "cell_type": "code",
   "execution_count": 12,
   "metadata": {
    "collapsed": true
   },
   "outputs": [],
   "source": [
    "pipeline = Pipeline([\n",
    "  ('cst', ColumnSelectTransformer(columns=['categories'])),\n",
    "  ('cat_transformer', CategoryTransformer()),\n",
    "  ('vectorizer', DictVectorizer()),\n",
    "  ('tfidf', TfidfTransformer()),\n",
    "  ('classifier', linear_model.LinearRegression())\n",
    "])"
   ]
  },
  {
   "cell_type": "code",
   "execution_count": 13,
   "metadata": {
    "collapsed": false
   },
   "outputs": [
    {
     "name": "stdout",
     "output_type": "stream",
     "text": [
      "[ 4.23965915  4.04571874  4.30456556  3.82425019  3.87279651  3.71963255\n",
      "  3.06553658  3.30915369  3.42135172  4.37127433]\n",
      "[ 5.   4.   4.5  4.5  3.5  5.   4.   3.5  4.   5. ]\n",
      "0.170443165363\n",
      "Category Model RMSE:  0.806719396118\n",
      "Category Model MAE:  0.628842356365\n",
      "Category Model R^2:  0.170443165363\n"
     ]
    }
   ],
   "source": [
    "pipeline.fit(data_train, stars_train)\n",
    "print pipeline.predict(data_test[:10])\n",
    "print stars_test[:10].values\n",
    "score = pipeline.score(data_test,stars_test)\n",
    "print score\n",
    "preds = pipeline.predict(data_test)\n",
    "print 'Category Model RMSE: ', mean_squared_error(stars_test,preds)**0.5\n",
    "print 'Category Model MAE: ', mean_absolute_error(stars_test,preds)\n",
    "print 'Category Model R^2: ', r2_score(stars_test,preds)"
   ]
  },
  {
   "cell_type": "markdown",
   "metadata": {},
   "source": [
    "### Attributes field\n",
    "\n",
    "Similar to categories (restaurant, etc) Yelp collects attributes of venues (TVs in bar, wifi, outdoor patio, etc.) I will build a model to use the attributes to predict Yelp ratings. This will be similar to the categories model, but with a particular transformer for the attribues field.\n",
    "\n",
    "I will make a pipeline of the following transformations and estimation:\n",
    "\n",
    "1. `ColumnSelectTransformer` for 'attributes'\n",
    "\n",
    "2. `AttributeTransformer` to parse the yelp category data\n",
    "\n",
    "3. `DictVectorizer` - Convert attributes to numbers for use in sklearn estimators\n",
    "\n",
    "4. `TfidfTransformer` - Normalize attributes based upon term frequency - inverse document frequency (TF-IDF)\n",
    "\n",
    "5. `LinearRegression` - Predict stars based on the output of TF-IDF\n",
    "\n"
   ]
  },
  {
   "cell_type": "code",
   "execution_count": 14,
   "metadata": {
    "collapsed": true
   },
   "outputs": [],
   "source": [
    "pipeline = Pipeline([\n",
    "  ('cst', ColumnSelectTransformer(columns=['attributes'])),\n",
    "  ('att_transformer', AttributesTransformer()),\n",
    "  ('vectorizer', DictVectorizer()),\n",
    "  ('tfidf',TfidfTransformer()),\n",
    "  ('classifier', linear_model.LinearRegression())\n",
    "])"
   ]
  },
  {
   "cell_type": "code",
   "execution_count": 15,
   "metadata": {
    "collapsed": false
   },
   "outputs": [
    {
     "name": "stdout",
     "output_type": "stream",
     "text": [
      "[ 3.6706147   3.99940153  3.9727453   3.83213542  3.79369163  3.6706147\n",
      "  3.31230563  3.41024663  3.58801175  3.72347863]\n",
      "[ 5.   4.   4.5  4.5  3.5  5.   4.   3.5  4.   5. ]\n",
      "0.0789392754202\n",
      "Attribute Model RMSE:  0.850048211357\n",
      "Attribute Model MAE:  0.675276746795\n",
      "Attribute Model R^2:  0.0789392754202\n"
     ]
    }
   ],
   "source": [
    "pipeline.fit(data_train, stars_train)\n",
    "print pipeline.predict(data_test[:10])\n",
    "print stars_test[:10].values\n",
    "score = pipeline.score(data_test,stars_test)\n",
    "print score\n",
    "preds = pipeline.predict(data_test)\n",
    "print 'Attribute Model RMSE: ', mean_squared_error(stars_test,preds)**0.5\n",
    "print 'Attribute Model MAE: ', mean_absolute_error(stars_test,preds)\n",
    "print 'Attribute Model R^2: ', r2_score(stars_test,preds)"
   ]
  },
  {
   "cell_type": "markdown",
   "metadata": {},
   "source": [
    "Attributes are another very weak predictor of Yelp star rating\n",
    "\n",
    "### Combined model\n",
    "\n",
    "Three weak predictors (city, lat/long, attributes) and one fair predictor (categories). I will now build an overall model to combine these four predictors into an overall predictor.\n",
    "\n",
    "The key at this stage is to use a `FeatureUnion` to combine the predictors. `FeatureUnion` assumes that only transformations are made to the data, so I have to 'fool' it by using the `ModelTransformer` class to create a \"transformation\" of that returns the prediction for each model. Then, I combine these features in a `LinearRegression` model.\n"
   ]
  },
  {
   "cell_type": "code",
   "execution_count": 16,
   "metadata": {
    "collapsed": false
   },
   "outputs": [],
   "source": [
    "pipeline = Pipeline([\n",
    "  ('features', FeatureUnion([\n",
    "    ('city', Pipeline([\n",
    "      ('cst', ColumnSelectTransformer(columns=['city'])),\n",
    "      ('classifier', ModelTransformer(CityMeanEstimator(),'city class'))\n",
    "    ])),\n",
    "    ('neighborhod', Pipeline([\n",
    "      ('lat lon cst', ColumnSelectTransformer(columns=['latitude','longitude'])),\n",
    "      ('nearest neighbors', ModelTransformer(neighbors.KNeighborsRegressor(n_neighbors=94),'neigh class'))\n",
    "    ])),\n",
    "    ('category', Pipeline([\n",
    "      ('cat cst', ColumnSelectTransformer(columns=['categories'])),\n",
    "      ('cat_transformer', CategoryTransformer()),\n",
    "      ('cat vectorizer', DictVectorizer()),\n",
    "      ('cat tfidf', TfidfTransformer()),\n",
    "      ('classifier', ModelTransformer(linear_model.LinearRegression(),'cat class'))\n",
    "    ])),\n",
    "    ('attributes', Pipeline([\n",
    "      ('att cst', ColumnSelectTransformer(columns=['attributes'])),\n",
    "      ('att_transformer', AttributesTransformer()),\n",
    "      ('att vectorizer', DictVectorizer()),\n",
    "      ('att tfidf',TfidfTransformer()),\n",
    "      ('classifier', ModelTransformer(linear_model.LinearRegression(),'att class'))\n",
    "    ]))\n",
    "  ])),\n",
    "  ('final classifier', linear_model.LinearRegression())\n",
    "])"
   ]
  },
  {
   "cell_type": "code",
   "execution_count": 19,
   "metadata": {
    "collapsed": false
   },
   "outputs": [
    {
     "name": "stdout",
     "output_type": "stream",
     "text": [
      "[ 3.6706147   3.99940255  3.97274505  3.83213406  3.79369298  3.6706147\n",
      "  3.31230485  3.41025357  3.58801357  3.72347899]\n",
      "[ 5.   4.   4.5  4.5  3.5  5.   4.   3.5  4.   5. ]\n",
      "0.0789390332998\n",
      "Ensemble Model RMSE:  0.850048323084\n",
      "Ensemble Model MAE:  0.675276799799\n",
      "Ensemble Model R^2:  0.0789390332998\n"
     ]
    }
   ],
   "source": [
    "pipeline.fit(data_train,stars_train)\n",
    "print pipeline.predict(data_test[:10])\n",
    "print stars_test[:10].values\n",
    "score = pipeline.score(data_test,stars_test)\n",
    "print score\n",
    "preds = pipeline.predict(data_test)\n",
    "print 'Ensemble Model RMSE: ', mean_squared_error(stars_test,preds)**0.5\n",
    "print 'Ensemble Model MAE: ', mean_absolute_error(stars_test,preds)\n",
    "print 'Ensemble Model R^2: ', r2_score(stars_test,preds)"
   ]
  },
  {
   "cell_type": "markdown",
   "metadata": {},
   "source": [
    "### Many business data fields have predictive power for Yelp star rating \n",
    "\n",
    "Individually, a data field had little predictive power, with the exception of the categories field. \n",
    "\n",
    "A new business owner could use this analysis to determine which category of business to start, and maybe where to start it. But who starts a business this way? And why would someone think business success is had by high Yelp star rating?\n",
    "\n",
    "Anyhow, it is interesting to know what kind of baseline one can expect given this information from yelp metadata."
   ]
  },
  {
   "cell_type": "code",
   "execution_count": 30,
   "metadata": {
    "collapsed": false
   },
   "outputs": [
    {
     "data": {
      "image/png": "[encoded data removed]",
      "text/plain": [
       "<matplotlib.figure.Figure at 0x390791d0>"
      ]
     },
     "metadata": {},
     "output_type": "display_data"
    }
   ],
   "source": [
    "plt.bar([1,2,3,4],[0.00132602324228, 0.0248118636604, 0.0789390332998, 0.170443168974])\n",
    "plt.xticks([1.5,2.5,3.5,4.5], ['City','LatLong','Attribute','Category'])\n",
    "#plt.gca().set_xticklabel(['City','LatLong','Attribute','Category'])\n",
    "#plt.g\n",
    "#plt.xticks(['City','LatLong','Attribute','Category'])\n",
    "f = plt.gcf()\n",
    "f.set_size_inches(6,4)\n",
    "plt.ylabel(\"R^2\")\n",
    "plt.savefig('ML_Yelp_Bus.png',dpi=300)"
   ]
  },
  {
   "cell_type": "code",
   "execution_count": null,
   "metadata": {
    "collapsed": true
   },
   "outputs": [],
   "source": []
  }
 ],
 "metadata": {
  "kernelspec": {
   "display_name": "Python 2",
   "language": "python",
   "name": "python2"
  },
  "language_info": {
   "codemirror_mode": {
    "name": "ipython",
    "version": 2
   },
   "file_extension": ".py",
   "mimetype": "text/x-python",
   "name": "python",
   "nbconvert_exporter": "python",
   "pygments_lexer": "ipython2",
   "version": "2.7.6"
  }
 },
 "nbformat": 4,
 "nbformat_minor": 0
}
