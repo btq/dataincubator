{
 "cells": [
  {
   "cell_type": "markdown",
   "metadata": {},
   "source": [
    "# Natural Language Processing\n",
    "## Predict Yelp star ratings from review text\n",
    "\n",
    "Unstructured data makes up the vast majority of data. This is a basic intro to handling unstructured data. The objective is to be able to extract the sentiment (positive or negative) from text. We will do this from Yelp reviews.\n",
    "\n",
    "The model will be assessed based on how root mean squared error of the number of stars it predicts.\n",
    "\n",
    "Download the data here : http://thedataincubator.s3.amazonaws.com/coursedata/mldata/yelp_train_academic_dataset_review.json.gz\n",
    "\n",
    "### Load and parse the data\n",
    "Load and parse the json using the `simplejson` library. Then convert it to a `pandas` data frame and remove columns I won't need to free up memory."
   ]
  },
  {
   "cell_type": "code",
   "execution_count": 28,
   "metadata": {
    "collapsed": false
   },
   "outputs": [
    {
     "data": {
      "text/html": [
       "<div>\n",
       "<table border=\"1\" class=\"dataframe\">\n",
       "  <thead>\n",
       "    <tr style=\"text-align: right;\">\n",
       "      <th></th>\n",
       "      <th>business_id</th>\n",
       "      <th>stars</th>\n",
       "      <th>text</th>\n",
       "    </tr>\n",
       "  </thead>\n",
       "  <tbody>\n",
       "    <tr>\n",
       "      <th>0</th>\n",
       "      <td>_wZTYYL7cutanzAnJUTGMA</td>\n",
       "      <td>3</td>\n",
       "      <td>We had dinner at the Beach House on Friday on ...</td>\n",
       "    </tr>\n",
       "    <tr>\n",
       "      <th>1</th>\n",
       "      <td>89O2bCyo92IpEEvgFXqOMw</td>\n",
       "      <td>5</td>\n",
       "      <td>Great cousins!  The subs are always good and t...</td>\n",
       "    </tr>\n",
       "    <tr>\n",
       "      <th>2</th>\n",
       "      <td>n7G3zKFSgTrl2KE5HpzLcw</td>\n",
       "      <td>5</td>\n",
       "      <td>Had to get a smoothie after 3 hours of shoppin...</td>\n",
       "    </tr>\n",
       "    <tr>\n",
       "      <th>3</th>\n",
       "      <td>YZxA6w82eFJFntwqJLln6w</td>\n",
       "      <td>3</td>\n",
       "      <td>No cover for military.  That's awesome and fre...</td>\n",
       "    </tr>\n",
       "    <tr>\n",
       "      <th>4</th>\n",
       "      <td>W6gPrnthBK7i1pe4ZZlJDQ</td>\n",
       "      <td>4</td>\n",
       "      <td>I don't understand why the ratings for this pl...</td>\n",
       "    </tr>\n",
       "  </tbody>\n",
       "</table>\n",
       "</div>"
      ],
      "text/plain": [
       "              business_id  stars  \\\n",
       "0  _wZTYYL7cutanzAnJUTGMA      3   \n",
       "1  89O2bCyo92IpEEvgFXqOMw      5   \n",
       "2  n7G3zKFSgTrl2KE5HpzLcw      5   \n",
       "3  YZxA6w82eFJFntwqJLln6w      3   \n",
       "4  W6gPrnthBK7i1pe4ZZlJDQ      4   \n",
       "\n",
       "                                                text  \n",
       "0  We had dinner at the Beach House on Friday on ...  \n",
       "1  Great cousins!  The subs are always good and t...  \n",
       "2  Had to get a smoothie after 3 hours of shoppin...  \n",
       "3  No cover for military.  That's awesome and fre...  \n",
       "4  I don't understand why the ratings for this pl...  "
      ]
     },
     "execution_count": 28,
     "metadata": {},
     "output_type": "execute_result"
    }
   ],
   "source": [
    "import re\n",
    "import gzip\n",
    "import nltk\n",
    "import timeit\n",
    "import simplejson\n",
    "import numpy as np\n",
    "import pandas as pd\n",
    "import seaborn as sns\n",
    "import matplotlib.pylab as plt\n",
    "import nltk.tokenize as tokenize\n",
    "from sklearn import linear_model\n",
    "from sklearn.externals import joblib\n",
    "from sklearn import cross_validation, grid_search\n",
    "from sklearn.pipeline import FeatureUnion, Pipeline\n",
    "from sklearn.feature_extraction.text import CountVectorizer, HashingVectorizer\n",
    "\n",
    "plt.style.use('ggplot')\n",
    "%matplotlib inline\n",
    "pd.options.display.max_columns=25\n",
    "\n",
    "runit = 0\n",
    "\n",
    "if runit:\n",
    "    data = gzip.open('yelp_train_academic_dataset_review.json.gz')\n",
    "    data_content = data.read()\n",
    "    data.close()\n",
    "    lines= re.split('\\n',data_content)\n",
    "    json_data = [simplejson.loads(line) for line in lines[:-1]]\n",
    "    df = pd.DataFrame(json_data)\n",
    "    del(json_data)\n",
    "    df.info()\n",
    "\n",
    "    ### all pasted code here on out\n",
    "    cols_to_drop = ['date','review_id','type','user_id','votes']\n",
    "    df.drop(cols_to_drop, axis=1, inplace=True)\n",
    "    df.info()\n",
    "\n",
    "    rows = np.random.choice(df.index.values,55000,replace=False)\n",
    "    sampled_df = df.ix[rows]\n",
    "    sampled_df.to_json('Yelp_review_text_stars_55000.json')\n",
    "    del(df)\n",
    "else:\n",
    "    sampled_df = pd.read_json('Yelp_review_text_stars_55000.json')\n",
    "    sampled_df.reset_index(drop=True,inplace=True)\n",
    "\n",
    "sampled_df.head(5)"
   ]
  },
  {
   "cell_type": "markdown",
   "metadata": {},
   "source": [
    "## Bag of Words\n",
    "I will first build a bag of words model. I will build a linear model based on the count of the words in each review.\n",
    "\n",
    "### Feature Extraction from Text\n",
    "#### HashingVectorizer\n",
    "I first need to tokenize the yelp reviews to break them into individual words. For this process I used the `nltk` package and the `HashingVectorizer` from `sklearn`. `HashingVectorizer` uses a hashtable to more efficiently store the large dictionary from the yelp reviews. \n",
    "\n",
    "One of the limitations of the `HashingVectorizer` is that is does not record the mapping: if you want to go back and forth that information is lost. However, I am concerned with a BagOfWords model to predict rating stars.  I don't care what words predict 5 stars: `HashingVectorizer` will suffice.\n",
    "\n",
    "#### Stopwords\n",
    "Common english language words were filtered using a `nltk` subpackage and the `stopwords` parameter in `HashingVectorizer`. Stop words are words we want to omit because they are common and do not tend to give us any value as to the meaning of reviews. Example of stop words are: \"a\", \"an\", \"the\", \"it\", \"he\", \"her\". \n",
    "\n",
    "#### Lemmatization\n",
    "I also found it necessary to use word lemmatization. Lemmatization is an NLP strategy to lower the vocabulary space by combining words that have the same root. For example, in English, the verb 'to jump' may appear as 'jump', 'jumped', 'jumps', 'jumping'. The base form, 'jump', that one might look up in a dictionary, is called the *lemma* for the word. I use `nltk`'s `WordNetLemmatizer`."
   ]
  },
  {
   "cell_type": "code",
   "execution_count": 29,
   "metadata": {
    "collapsed": true
   },
   "outputs": [],
   "source": [
    "from nltk.stem import WordNetLemmatizer\n",
    "from nltk import word_tokenize\n",
    "class LemmaTokenizer(object):\n",
    "    def __init__(self):\n",
    "        self.wnl = WordNetLemmatizer()\n",
    "    def __call__(self, doc):\n",
    "        return [self.wnl.lemmatize(t) for t in word_tokenize(doc)]"
   ]
  },
  {
   "cell_type": "markdown",
   "metadata": {},
   "source": [
    "Setup the test and training data sets."
   ]
  },
  {
   "cell_type": "code",
   "execution_count": 30,
   "metadata": {
    "collapsed": true
   },
   "outputs": [],
   "source": [
    "text_train,text_test,stars_train,stars_test = cross_validation.train_test_split(sampled_df['text'],sampled_df['stars'],\n",
    "                                                                               test_size=0.2, random_state=23)\n"
   ]
  },
  {
   "cell_type": "markdown",
   "metadata": {},
   "source": [
    "#### Model Fitting\n",
    "\n",
    "I use `SGDRegressor`, which implements a plain stochastic gradient descent learning routine, to fit my bag of words model to the star rating on Yelp. It is well suited for regression problems with a large number of training samples (> 10000). Cross validation was used to validate the test set and prevent overfitting.\n",
    "\n",
    "The `Pipeline` function of sklearn was used to quickly and easily link preprocessing (`HashingVectorizer`) and estimator (`SGDRegressor`) steps of my machine learning model.\n",
    "\n",
    "#### N-grams of size 1\n",
    "I will use a ngram size of one for the first model. Only single words are hashed."
   ]
  },
  {
   "cell_type": "code",
   "execution_count": 31,
   "metadata": {
    "collapsed": false
   },
   "outputs": [
    {
     "name": "stdout",
     "output_type": "stream",
     "text": [
      "Monogram score:  0.620905936123\n"
     ]
    }
   ],
   "source": [
    "if runit:\n",
    "    hv_mono = HashingVectorizer(tokenizer=LemmaTokenizer(),norm='l2',ngram_range=(1,1),stop_words=nltk.corpus.stopwords.words('english'))\n",
    "    hv_mono_counts = hv_mono.fit_transform(sampled_df['text'])\n",
    "    joblib.dump(hv_mono,'hash_vectorizer_mono.pkl')\n",
    "    del(hv_mono_counts)\n",
    "    #fit model\n",
    "    tic=timeit.default_timer()\n",
    "    monogram_pipeline = Pipeline([\n",
    "    ('vect', hv_mono),\n",
    "    ('lm', linear_model.SGDRegressor(n_iter=6000,alpha=.00001,penalty='l2')),\n",
    "    ])\n",
    "    monogram_pipeline.fit(text_train,stars_train)\n",
    "    toc=timeit.default_timer()\n",
    "    print toc - tic\n",
    "    joblib.dump(monogram_pipeline,'monogram_pipeline.pkl')\n",
    "else:\n",
    "    nv_mono = joblib.load('hash_vectorizer_mono.pkl')\n",
    "    monogram_pipeline=joblib.load('monogram_pipeline.pkl')\n",
    "\n",
    "score = monogram_pipeline.score(text_test,stars_test)\n",
    "print 'Monogram score: ', score"
   ]
  },
  {
   "cell_type": "markdown",
   "metadata": {},
   "source": [
    "The score above is the coefficient of determination R^2 of the prediction. So 62% of the variannce in star rating is predictable from monograms of the review text. Let's look at how these predictions line up with the actual data."
   ]
  },
  {
   "cell_type": "code",
   "execution_count": 37,
   "metadata": {
    "collapsed": false
   },
   "outputs": [
    {
     "data": {
      "text/plain": [
       "<matplotlib.text.Text at 0x10511bfd0>"
      ]
     },
     "execution_count": 37,
     "metadata": {},
     "output_type": "execute_result"
    },
    {
     "data": {
      "image/png": "[encoded data removed]",
      "text/plain": [
       "<matplotlib.figure.Figure at 0x1058e3fd0>"
      ]
     },
     "metadata": {},
     "output_type": "display_data"
    }
   ],
   "source": [
    "plt.scatter(stars_test[:500],monogram_pipeline.predict(text_test[:500]),)\n",
    "plt.xlabel('True Star Rating')\n",
    "plt.ylabel('Predicted')\n",
    "plt.title('Monogram Model')"
   ]
  },
  {
   "cell_type": "markdown",
   "metadata": {},
   "source": [
    "#### N-grams of size 2\n",
    "I will use a ngram size of one for the next model. These bigrams are two adjacent words from the text."
   ]
  },
  {
   "cell_type": "code",
   "execution_count": 36,
   "metadata": {
    "collapsed": false
   },
   "outputs": [
    {
     "name": "stdout",
     "output_type": "stream",
     "text": [
      "Bigram score:  0.745359651404\n"
     ]
    }
   ],
   "source": [
    "if runit:\n",
    "    hv_bi = HashingVectorizer(tokenizer=LemmaTokenizer(),norm='l2',ngram_range=(2,2),stop_words=nltk.corpus.stopwords.words('english'))\n",
    "    hv_bi_counts = hv_bi.fit_transform(sampled_df['text'])\n",
    "    joblib.dump(hv_bi,'hash_vectorizer_bi.pkl')\n",
    "    del(hv_bi_counts)\n",
    "    #fit model\n",
    "    tic=timeit.default_timer()\n",
    "    bigram_pipeline = Pipeline([\n",
    "    ('vect', hv_bi),\n",
    "    ('lm', linear_model.SGDRegressor(n_iter=6000,alpha=.00001,penalty='l2')),\n",
    "    ])\n",
    "    bigram_pipeline.fit(text_train,stars_train)\n",
    "    toc=timeit.default_timer()\n",
    "    print toc - tic\n",
    "    joblib.dump(bigram_pipeline,'bigram_pipeline.pkl')\n",
    "else:\n",
    "    hv_bi = joblib.load('hash_vectorizer_bi.pkl')\n",
    "    bigram_pipeline=joblib.load('bigram_pipeline.pkl')\n",
    "\n",
    "score = bigram_pipeline.score(text_test,stars_test)\n",
    "print 'Bigram score: ', score"
   ]
  },
  {
   "cell_type": "markdown",
   "metadata": {},
   "source": [
    "Bigrams do not do better than monograms. Let's plot these predictions."
   ]
  },
  {
   "cell_type": "code",
   "execution_count": 39,
   "metadata": {
    "collapsed": false
   },
   "outputs": [
    {
     "data": {
      "text/plain": [
       "<matplotlib.text.Text at 0xfdae6160>"
      ]
     },
     "execution_count": 39,
     "metadata": {},
     "output_type": "execute_result"
    },
    {
     "data": {
      "image/png": "[encoded data removed]",
      "text/plain": [
       "<matplotlib.figure.Figure at 0x125f4d668>"
      ]
     },
     "metadata": {},
     "output_type": "display_data"
    }
   ],
   "source": [
    "plt.scatter(stars_test[:500],bigram_pipeline.predict(text_test[:500]),)\n",
    "plt.xlabel('True Star Rating')\n",
    "plt.ylabel('Predicted')\n",
    "plt.title('Bigram Model')"
   ]
  },
  {
   "cell_type": "code",
   "execution_count": 40,
   "metadata": {
    "collapsed": false
   },
   "outputs": [
    {
     "name": "stdout",
     "output_type": "stream",
     "text": [
      "Bi- and Monogram score:  0.737116961314\n"
     ]
    }
   ],
   "source": [
    "if runit:\n",
    "    hv_monobi = HashingVectorizer(tokenizer=LemmaTokenizer(),norm='l2',ngram_range=(1,2),stop_words=nltk.corpus.stopwords.words('english'))\n",
    "    hv_monobi_counts = hv_monobi.fit_transform(sampled_df['text'])\n",
    "    joblib.dump(hv_monobi,'hash_vectorizer_monobi.pkl')\n",
    "    del(hv_monobi_counts)\n",
    "    #fit model\n",
    "    tic=timeit.default_timer()\n",
    "    monobi_pipeline = Pipeline([\n",
    "    ('vect', hv_monobi),\n",
    "    ('lm', linear_model.Ridge()),\n",
    "    ])\n",
    "    monobi_pipeline.fit(text_train,stars_train)\n",
    "    toc=timeit.default_timer()\n",
    "    print toc - tic\n",
    "    joblib.dump(monobi_pipeline,'monobi_pipeline.pkl')\n",
    "else:\n",
    "    hv_monobi = joblib.load('hash_vectorizer_monobi.pkl')\n",
    "    monobi_pipeline=joblib.load('monobi_pipeline.pkl')\n",
    "    \n",
    "score = monobi_pipeline.score(text_test,stars_test)\n",
    "print 'Bi- and Monogram score: ', score"
   ]
  },
  {
   "cell_type": "markdown",
   "metadata": {},
   "source": [
    "The bi- and mono-gram model does not perform better than the bigram model."
   ]
  },
  {
   "cell_type": "code",
   "execution_count": 41,
   "metadata": {
    "collapsed": false
   },
   "outputs": [
    {
     "data": {
      "text/plain": [
       "<matplotlib.text.Text at 0xfb64e898>"
      ]
     },
     "execution_count": 41,
     "metadata": {},
     "output_type": "execute_result"
    },
    {
     "data": {
      "image/png": "[encoded data removed]",
      "text/plain": [
       "<matplotlib.figure.Figure at 0x11a9f9c88>"
      ]
     },
     "metadata": {},
     "output_type": "display_data"
    }
   ],
   "source": [
    "plt.scatter(stars_test[:500],monobi_pipeline.predict(text_test[:500]),)\n",
    "plt.xlabel('True Star Rating')\n",
    "plt.ylabel('Predicted')\n",
    "plt.title('Mono- and Bi-gram Model')"
   ]
  },
  {
   "cell_type": "code",
   "execution_count": 42,
   "metadata": {
    "collapsed": false
   },
   "outputs": [
    {
     "name": "stdout",
     "output_type": "stream",
     "text": [
      "Bi- and Monogram Linear Regression score:  0.764468788678\n",
      "439.277779726\n"
     ]
    }
   ],
   "source": [
    "tic=timeit.default_timer()\n",
    "if runit:\n",
    "    pred_mono_train = monogram_pipeline.predict(text_train)\n",
    "    pred_bi_train = bigram_pipeline.predict(text_train)\n",
    "    pred_combined_train = [[p1,p2] for p1,p2 in zip(pred_mono_train,pred_bi_train)]\n",
    "    lm = linear_model.LinearRegression(normalize=True,n_jobs=2)\n",
    "    lm.fit(pred_combined_train,stars_train)\n",
    "    joblib.dump(lm,'LM_monobi.pkl')\n",
    "else:\n",
    "    lm = joblib.load('LM_monobi.pkl')\n",
    "\n",
    "pred_mono_test = monogram_pipeline.predict(text_test)\n",
    "pred_bi_test = bigram_pipeline.predict(text_test)\n",
    "pred_combined_test = [[p1,p2] for p1,p2 in zip(pred_mono_test,pred_bi_test)]\n",
    "score = lm.score(pred_combined_test,stars_test)\n",
    "print 'Bi- and Monogram Linear Regression score: ', score\n",
    "toc=timeit.default_timer()\n",
    "print toc - tic"
   ]
  },
  {
   "cell_type": "code",
   "execution_count": 43,
   "metadata": {
    "collapsed": false
   },
   "outputs": [
    {
     "data": {
      "text/plain": [
       "['LM_monobi.pkl', 'LM_monobi.pkl_01.npy', 'LM_monobi.pkl_02.npy']"
      ]
     },
     "execution_count": 43,
     "metadata": {},
     "output_type": "execute_result"
    }
   ],
   "source": [
    "joblib.dump(lm,'LM_monobi.pkl')"
   ]
  },
  {
   "cell_type": "markdown",
   "metadata": {},
   "source": [
    "The linear model of the predictions "
   ]
  },
  {
   "cell_type": "code",
   "execution_count": null,
   "metadata": {
    "collapsed": true
   },
   "outputs": [],
   "source": [
    "plt.scatter(stars_test[:500],lm.predict(text_test[:500]),)\n",
    "plt.xlabel('True Star Rating')\n",
    "plt.ylabel('Predicted')\n",
    "plt.title('Mono- and Bi-gram Linear Model Model')"
   ]
  },
  {
   "cell_type": "code",
   "execution_count": 26,
   "metadata": {
    "collapsed": false
   },
   "outputs": [
    {
     "name": "stdout",
     "output_type": "stream",
     "text": [
      "Monogram score:  0.620905936123\n",
      "Bigram score:  0.745359651404\n",
      "Bi- and Monogram score:  0.737116961314\n"
     ]
    },
    {
     "data": {
      "text/plain": [
       "\"\\ntic=timeit.default_timer()\\nmonogram_pipeline = Pipeline([\\n('vect', hv_mono),\\n('lm', linear_model.SGDRegressor(n_iter=6000,alpha=.00001,penalty='l2')),\\n])\\nmonogram_pipeline.fit(text_train,stars_train)\\nscore = monogram_pipeline.score(text_test,stars_test)\\nprint 'Monogram score: ', score\\ntoc=timeit.default_timer()\\nprint toc - tic\\njoblib.dump(monogram_pipeline,'monogram_pipeline.pkl')\\n\\ntic=timeit.default_timer()\\nbigram_pipeline = Pipeline([\\n('vect', hv_bi),\\n('lm', linear_model.SGDRegressor(n_iter=6000,alpha=.00001,penalty='l2')),\\n])\\nbigram_pipeline.fit(text_train,stars_train)\\nscore = bigram_pipeline.score(text_test,stars_test)\\nprint 'Bigram score: ', score\\ntoc=timeit.default_timer()\\nprint toc - tic\\njoblib.dump(bigram_pipeline,'bigram_pipeline.pkl')\\n\\ntic=timeit.default_timer()\\npred_mono_train = monogram_pipeline.predict(text_train)\\npred_bi_train = bigram_pipeline.predict(text_train)\\npred_combined_train = [[p1,p2] for p1,p2 in zip(pred_mono_train,pred_bi_train)]\\nlm = linear_model.LinearRegression(normalize=True,n_jobs=2)\\nlm.fit(pred_combined_train,stars_train)\\n\\npred_mono_test = monogram_pipeline.predict(text_test)\\npred_bi_test = bigram_pipeline.predict(text_test)\\npred_combined_test = [[p1,p2] for p1,p2 in zip(pred_mono_test,pred_bi_test)]\\nscore = lm.score(pred_combined_test,stars_test)\\nprint 'Bi- and Monogram Linear Regression score: ', score\\ntoc=timeit.default_timer()\\nprint toc - tic\\n\\ntic=timeit.default_timer()\\nmonobi_pipeline = Pipeline([\\n('vect', hv_monobi),\\n('lm', linear_model.Ridge()),\\n])\\nmonobi_pipeline.fit(text_train,stars_train)\\nscore = monobi_pipeline.score(text_test,stars_test)\\nprint 'Bi- and Monogram score: ', score\\ntoc=timeit.default_timer()\\nprint toc - tic\\njoblib.dump(monobi_pipeline,'monobi_pipeline.pkl')\\n\""
      ]
     },
     "execution_count": 26,
     "metadata": {},
     "output_type": "execute_result"
    }
   ],
   "source": [
    "if runit = 0:\n",
    "nv_mono = joblib.load('hash_vectorizer_mono.pkl')\n",
    "hv_bi = joblib.load('hash_vectorizer_bi.pkl')\n",
    "hv_monobi = joblib.load('hash_vectorizer_monobi.pkl')\n",
    "monogram_pipeline=joblib.load('monogram_pipeline.pkl')\n",
    "bigram_pipeline=joblib.load('bigram_pipeline.pkl')\n",
    "monobi_pipeline=joblib.load('monobi_pipeline.pkl')\n",
    "\n",
    "text_train,text_test,stars_train,stars_test = cross_validation.train_test_split(sampled_df['text'],sampled_df['stars'],\n",
    "                                                                               test_size=0.2, random_state=23)\n",
    "\n",
    "score = monogram_pipeline.score(text_test,stars_test)\n",
    "print 'Monogram score: ', score\n",
    "score = bigram_pipeline.score(text_test,stars_test)\n",
    "print 'Bigram score: ', score\n",
    "score = monobi_pipeline.score(text_test,stars_test)\n",
    "print 'Bi- and Monogram score: ', score\n",
    "\n",
    "'''\n",
    "tic=timeit.default_timer()\n",
    "monogram_pipeline = Pipeline([\n",
    "('vect', hv_mono),\n",
    "('lm', linear_model.SGDRegressor(n_iter=6000,alpha=.00001,penalty='l2')),\n",
    "])\n",
    "monogram_pipeline.fit(text_train,stars_train)\n",
    "score = monogram_pipeline.score(text_test,stars_test)\n",
    "print 'Monogram score: ', score\n",
    "toc=timeit.default_timer()\n",
    "print toc - tic\n",
    "joblib.dump(monogram_pipeline,'monogram_pipeline.pkl')\n",
    "\n",
    "tic=timeit.default_timer()\n",
    "bigram_pipeline = Pipeline([\n",
    "('vect', hv_bi),\n",
    "('lm', linear_model.SGDRegressor(n_iter=6000,alpha=.00001,penalty='l2')),\n",
    "])\n",
    "bigram_pipeline.fit(text_train,stars_train)\n",
    "score = bigram_pipeline.score(text_test,stars_test)\n",
    "print 'Bigram score: ', score\n",
    "toc=timeit.default_timer()\n",
    "print toc - tic\n",
    "joblib.dump(bigram_pipeline,'bigram_pipeline.pkl')\n",
    "\n",
    "tic=timeit.default_timer()\n",
    "pred_mono_train = monogram_pipeline.predict(text_train)\n",
    "pred_bi_train = bigram_pipeline.predict(text_train)\n",
    "pred_combined_train = [[p1,p2] for p1,p2 in zip(pred_mono_train,pred_bi_train)]\n",
    "lm = linear_model.LinearRegression(normalize=True,n_jobs=2)\n",
    "lm.fit(pred_combined_train,stars_train)\n",
    "\n",
    "pred_mono_test = monogram_pipeline.predict(text_test)\n",
    "pred_bi_test = bigram_pipeline.predict(text_test)\n",
    "pred_combined_test = [[p1,p2] for p1,p2 in zip(pred_mono_test,pred_bi_test)]\n",
    "score = lm.score(pred_combined_test,stars_test)\n",
    "print 'Bi- and Monogram Linear Regression score: ', score\n",
    "toc=timeit.default_timer()\n",
    "print toc - tic\n",
    "\n",
    "tic=timeit.default_timer()\n",
    "monobi_pipeline = Pipeline([\n",
    "('vect', hv_monobi),\n",
    "('lm', linear_model.Ridge()),\n",
    "])\n",
    "monobi_pipeline.fit(text_train,stars_train)\n",
    "score = monobi_pipeline.score(text_test,stars_test)\n",
    "print 'Bi- and Monogram score: ', score\n",
    "toc=timeit.default_timer()\n",
    "print toc - tic\n",
    "joblib.dump(monobi_pipeline,'monobi_pipeline.pkl')\n",
    "'''\n"
   ]
  },
  {
   "cell_type": "code",
   "execution_count": null,
   "metadata": {
    "collapsed": true
   },
   "outputs": [],
   "source": []
  },
  {
   "cell_type": "code",
   "execution_count": 24,
   "metadata": {
    "collapsed": false
   },
   "outputs": [
    {
     "data": {
      "text/plain": [
       "<matplotlib.collections.PathCollection at 0x1173817b8>"
      ]
     },
     "execution_count": 24,
     "metadata": {},
     "output_type": "execute_result"
    },
    {
     "data": {
      "image/png": "[encoded data removed]",
      "text/plain": [
       "<matplotlib.figure.Figure at 0x13f277e48>"
      ]
     },
     "metadata": {},
     "output_type": "display_data"
    }
   ],
   "source": [
    "plt.scatter(stars_test[:200],monobi_pipeline.predict(text_test[:200]),)"
   ]
  },
  {
   "cell_type": "code",
   "execution_count": 15,
   "metadata": {
    "collapsed": false
   },
   "outputs": [
    {
     "data": {
      "text/plain": [
       "<matplotlib.axes._subplots.AxesSubplot at 0x13a855978>"
      ]
     },
     "execution_count": 15,
     "metadata": {},
     "output_type": "execute_result"
    },
    {
     "data": {
      "image/png": "[encoded data removed]",
      "text/plain": [
       "<matplotlib.figure.Figure at 0x14cc75198>"
      ]
     },
     "metadata": {},
     "output_type": "display_data"
    }
   ],
   "source": [
    "stars_train.hist( alpha=0.3 ,stacked=False,normed=True)\n",
    "stars_test.hist( alpha=0.3 ,stacked=False,normed=True)"
   ]
  },
  {
   "cell_type": "code",
   "execution_count": 17,
   "metadata": {
    "collapsed": false
   },
   "outputs": [],
   "source": [
    "rows = np.random.choice(df.index.values,33000,replace=False)\n",
    "sampled_df = df.ix[rows]\n",
    "sampled_df.to_json('Yelp_review_text_stars_33000.json')\n",
    "del(df)"
   ]
  },
  {
   "cell_type": "code",
   "execution_count": 18,
   "metadata": {
    "collapsed": true
   },
   "outputs": [],
   "source": [
    "hv = HashingVectorizer(norm='l2',stop_words=nltk.corpus.stopwords.words('english'))\n",
    "hvcounts = hv.fit_transform(sampled_df['text'])"
   ]
  },
  {
   "cell_type": "code",
   "execution_count": 6,
   "metadata": {
    "collapsed": false
   },
   "outputs": [
    {
     "data": {
      "text/plain": [
       "['hvcounts.pkl',\n",
       " 'hvcounts.pkl_01.npy',\n",
       " 'hvcounts.pkl_02.npy',\n",
       " 'hvcounts.pkl_03.npy']"
      ]
     },
     "execution_count": 6,
     "metadata": {},
     "output_type": "execute_result"
    }
   ],
   "source": [
    "#joblib.dump(hv,'hash_vectorizer.pkl') Saved hv from full data\n",
    "#joblib.dump(hvcounts,'hvcounts.pkl') Saved hvcounts from full data"
   ]
  },
  {
   "cell_type": "code",
   "execution_count": 60,
   "metadata": {
    "collapsed": false
   },
   "outputs": [],
   "source": [
    "text_train,text_test,stars_train,stars_test = cross_validation.train_test_split(sampled_df['text'],sampled_df['stars'],\n",
    "                                                                               test_size=0.2, random_state=23)"
   ]
  },
  {
   "cell_type": "code",
   "execution_count": 61,
   "metadata": {
    "collapsed": false
   },
   "outputs": [
    {
     "name": "stdout",
     "output_type": "stream",
     "text": [
      "Monogram score:  0.565108558564\n",
      "154.448280271\n"
     ]
    }
   ],
   "source": [
    "tic=timeit.default_timer()\n",
    "\n",
    "monogram_pipeline = Pipeline([\n",
    "('vect', HashingVectorizer(norm='l2',ngram_range=(1,1),stop_words=nltk.corpus.stopwords.words('english'))),\n",
    "('lm', linear_model.SGDRegressor(n_iter=6000,alpha=.00001,penalty='l2')),\n",
    "])\n",
    "\n",
    "monogram_pipeline.fit(text_train,stars_train)\n",
    "score = monogram_pipeline.score(text_test,stars_test)\n",
    "print 'Monogram score: ', score\n",
    "\n",
    "toc=timeit.default_timer()\n",
    "print toc - tic"
   ]
  },
  {
   "cell_type": "code",
   "execution_count": 62,
   "metadata": {
    "collapsed": false
   },
   "outputs": [
    {
     "name": "stdout",
     "output_type": "stream",
     "text": [
      "Bigram score:  0.413075315485\n",
      "213.984861767\n"
     ]
    }
   ],
   "source": [
    "tic=timeit.default_timer()\n",
    "\n",
    "bigram_pipeline = Pipeline([\n",
    "('vect', HashingVectorizer(norm='l2',ngram_range=(2,2),stop_words=nltk.corpus.stopwords.words('english'))),\n",
    "('lm', linear_model.SGDRegressor(n_iter=6000,alpha=.00001,penalty='l2')),\n",
    "])\n",
    "\n",
    "bigram_pipeline.fit(text_train,stars_train)\n",
    "score = bigram_pipeline.score(text_test,stars_test)\n",
    "print 'Bigram score: ', score\n",
    "\n",
    "toc=timeit.default_timer()\n",
    "print toc - tic"
   ]
  },
  {
   "cell_type": "code",
   "execution_count": 67,
   "metadata": {
    "collapsed": false
   },
   "outputs": [
    {
     "name": "stdout",
     "output_type": "stream",
     "text": [
      "Bi- and Monogram Linear Regression score:  0.445895681409\n",
      "37.2129645705\n"
     ]
    }
   ],
   "source": [
    "text_train,text_test,stars_train,stars_test = cross_validation.train_test_split(sampled_df['text'],sampled_df['stars'],\n",
    "                                                                               test_size=0.2, random_state=23)\n",
    "tic=timeit.default_timer()\n",
    "\n",
    "pred_mono_train = monogram_pipeline.predict(text_train)\n",
    "pred_bi_train = bigram_pipeline.predict(text_train)\n",
    "pred_combined_train = [[p1,p2] for p1,p2 in zip(pred_mono_train,pred_bi_train)]\n",
    "lm = linear_model.LinearRegression(normalize=True,n_jobs=2)\n",
    "lm.fit(pred_combined_train,stars_train)\n",
    "\n",
    "pred_mono_test = monogram_pipeline.predict(text_test)\n",
    "pred_bi_test = bigram_pipeline.predict(text_test)\n",
    "pred_combined_test = [[p1,p2] for p1,p2 in zip(pred_mono_test,pred_bi_test)]\n",
    "score = lm.score(pred_combined_test,stars_test)\n",
    "print 'Bi- and Monogram Linear Regression score: ', score\n",
    "\n",
    "toc=timeit.default_timer()\n",
    "print toc - tic"
   ]
  },
  {
   "cell_type": "code",
   "execution_count": 63,
   "metadata": {
    "collapsed": false
   },
   "outputs": [
    {
     "name": "stdout",
     "output_type": "stream",
     "text": [
      "Bi- and Monogram score:  0.581969293554\n",
      "314.762666724\n"
     ]
    }
   ],
   "source": [
    "tic=timeit.default_timer()\n",
    "\n",
    "monobi_pipeline = Pipeline([\n",
    "('vect', HashingVectorizer(ngram_range=(1,2),norm='l2',stop_words=nltk.corpus.stopwords.words('english'))),\n",
    "('lm', linear_model.SGDRegressor(n_iter=6000,penalty='l2',alpha=.00001)),\n",
    "])\n",
    "monobi_pipeline.fit(text_train,stars_train)\n",
    "score = monobi_pipeline.score(text_test,stars_test)\n",
    "print 'Bi- and Monogram score: ', score\n",
    "\n",
    "toc=timeit.default_timer()\n",
    "print toc - tic"
   ]
  },
  {
   "cell_type": "code",
   "execution_count": 68,
   "metadata": {
    "collapsed": false
   },
   "outputs": [
    {
     "name": "stdout",
     "output_type": "stream",
     "text": [
      "Bi- and Monogram score:  0.580045386659\n",
      "23.8673929312\n"
     ]
    }
   ],
   "source": [
    "tic=timeit.default_timer()\n",
    "\n",
    "monobi_pipeline = Pipeline([\n",
    "('vect', HashingVectorizer(ngram_range=(1,2),norm='l2',stop_words=nltk.corpus.stopwords.words('english'))),\n",
    "('lm', linear_model.Ridge()),\n",
    "])\n",
    "monobi_pipeline.fit(text_train,stars_train)\n",
    "score = monobi_pipeline.score(text_test,stars_test)\n",
    "print 'Bi- and Monogram score: ', score\n",
    "\n",
    "toc=timeit.default_timer()\n",
    "print toc - tic"
   ]
  },
  {
   "cell_type": "markdown",
   "metadata": {},
   "source": [
    "A simple linear regression combining a model trained on monograms and a model trained on bigrams has a stronger predictive power than either alone!\n",
    "\n",
    "This combined model beat the benchmark for a bigram model on the Heroku app.\n",
    "\n",
    "### Top restaurant bigrams\n",
    "\n",
    "Looking at only reviews of restaurants I next wanted to identify word pairs in reviews that are more likely than the individual words alone. These might be strongly indicative of \"foodie\" type words that you might expect to find in a yelp review such as \"huevos rancheros\".\n",
    "\n",
    "We can find word pairs that are unlikely to occur consecutively based on the underlying probability of their words.\n",
    "\n",
    "Mathematically, if $p(w)$ be the probability of a word w and $p(w1w2)$ is the probability of the bigram $w1w2$, then we want to look at word pairs $w1w2$ where the statistic\n",
    "\n",
    "$p(w1w2)/p(w1)/p(w2)$\n",
    "\n",
    "is high.\n",
    "\n",
    "This metric is, however, problematic when $p(w_1)$ and/or $p(w_2)$ are small. This can be fixed with Bayesian smoothing or additive smoothing which essentially adds a constant factor to all probabilities. This factor sets the scale for the number of appearances a word must be used in the overall corpus before it is considered relevent.\n",
    "\n",
    "First I need to load in a second data set that idenitifies which businesses are restaurants and do an SQL style join on my two pandas dataframes. This will allow me to select reviews that only correspond to restaurants and by extension special food bigrams."
   ]
  },
  {
   "cell_type": "code",
   "execution_count": 69,
   "metadata": {
    "collapsed": true
   },
   "outputs": [],
   "source": [
    "data = gzip.open('../ML_Yelp_BusFeatures/yelp_train_academic_dataset_business.json.gz')\n",
    "data_content_biz = data.read()\n",
    "data.close()\n",
    "lines= re.split('\\n',data_content_biz)\n",
    "json_data = [simplejson.loads(line) for line in lines[:-1]]\n",
    "dfbiz = pd.DataFrame(json_data)\n",
    "\n",
    "restaurant = []\n",
    "for i in dfbiz.index:\n",
    "    restaurant.append(sum([1 for cat in dfbiz.iloc[i]['categories'] if re.match('Restaurants',cat)]))\n",
    "dfbiz['restaurant'] = restaurant\n",
    "df_big = pd.merge(sampled_df,dfbiz,on='business_id')\n",
    "df_rest = df_big[df_big['restaurant']==1]"
   ]
  },
  {
   "cell_type": "code",
   "execution_count": 70,
   "metadata": {
    "collapsed": true
   },
   "outputs": [],
   "source": [
    "from nltk.stem import WordNetLemmatizer\n",
    "from nltk import word_tokenize\n",
    "class LemmaTokenizer(object):\n",
    "    def __init__(self):\n",
    "        self.wnl = WordNetLemmatizer()\n",
    "    def __call__(self, doc):\n",
    "        return [self.wnl.lemmatize(t) for t in word_tokenize(doc)]"
   ]
  },
  {
   "cell_type": "markdown",
   "metadata": {},
   "source": [
    "CountVectorizer\n",
    "\n",
    "Previously I used HashingVectorizer to take advantage of its smaller pickle sizes for Heroku deployment. As discussed before, HashingVectorizer cannot give you backward compatibility: you lose what word corresponds to what index. Since I now want to know what the words are, I switched over to CountVectorizer."
   ]
  },
  {
   "cell_type": "code",
   "execution_count": 71,
   "metadata": {
    "collapsed": true
   },
   "outputs": [],
   "source": [
    "cvbi = CountVectorizer(tokenizer=LemmaTokenizer(),ngram_range=(2,2),stop_words=nltk.corpus.stopwords.words('english'))\n",
    "bi = cvbi.fit_transform(df_rest['text'])\n",
    "cvmono = CountVectorizer(tokenizer=LemmaTokenizer(),ngram_range=(1,1),stop_words=nltk.corpus.stopwords.words('english'))\n",
    "mono = cvmono.fit_transform(df_rest['text'])\n",
    "bi_keys = cvbi.vocabulary_.keys() #[key for key in cvbi.vocabulary_.keys() if not re.match('.*[0-9_-].*',key)]\n",
    "mono_keys = cvmono.vocabulary_.keys() #[key for key in cvmono.vocabulary_.keys() if not re.match('.*[0-9_-].*',key)]\n",
    "bi_keys_split = [re.split('\\s',key) for key in bi_keys]"
   ]
  },
  {
   "cell_type": "markdown",
   "metadata": {},
   "source": [
    "Bayesian smoothing function\n",
    "\n",
    "I tried several different approaches for setting the alpha factor (as can be seen in the commented out lines). In general, an alpha set around the mean count of all words appeared to be roughly appropriate."
   ]
  },
  {
   "cell_type": "code",
   "execution_count": 72,
   "metadata": {
    "collapsed": true
   },
   "outputs": [],
   "source": [
    "def bayesian_smooth(vocab,keys,data,alpha_factor=1):\n",
    "    N = data.sum()#float(sum([data[:,vocab[key]].sum() for key in keys]))\n",
    "    d = float(len(keys))\n",
    "    #alpha = float(alpha)\n",
    "    count = np.array(data.sum(0))[0]\n",
    "    print np.mean(count)\n",
    "    #alpha = np.mean(count)*float(alpha_factor)\n",
    "    bayes = {}\n",
    "    for key in keys:\n",
    "        bayes[key] = float((count[vocab[key]]+alpha_factor))\n",
    "    \n",
    "    return bayes"
   ]
  },
  {
   "cell_type": "code",
   "execution_count": 73,
   "metadata": {
    "collapsed": false
   },
   "outputs": [
    {
     "name": "stdout",
     "output_type": "stream",
     "text": [
      "39.502356199\n",
      "2.98294328531\n"
     ]
    }
   ],
   "source": [
    "monoalpha = 61\n",
    "bialpha = 0\n",
    "mono_vocab_smooth = bayesian_smooth(cvmono.vocabulary_,cvmono.vocabulary_.keys(),mono,monoalpha)\n",
    "bi_vocab_smooth = bayesian_smooth(cvbi.vocabulary_,cvbi.vocabulary_.keys(),bi,bialpha)"
   ]
  },
  {
   "cell_type": "markdown",
   "metadata": {},
   "source": [
    "First results\n",
    "\n",
    "I calculated p_w and built the results into a dataframe for analysis and selection of the top 100."
   ]
  },
  {
   "cell_type": "code",
   "execution_count": 74,
   "metadata": {
    "collapsed": false
   },
   "outputs": [
    {
     "name": "stdout",
     "output_type": "stream",
     "text": [
      "count    5.389080e+05\n",
      "mean     2.108650e-05\n",
      "std      5.913056e-05\n",
      "min      4.160446e-09\n",
      "25%      9.733866e-07\n",
      "50%      3.525770e-06\n",
      "75%      1.462758e-05\n",
      "max      3.557175e-03\n",
      "Name: prob w, dtype: float64\n"
     ]
    },
    {
     "data": {
      "text/html": [
       "<div>\n",
       "<table border=\"1\" class=\"dataframe\">\n",
       "  <thead>\n",
       "    <tr style=\"text-align: right;\">\n",
       "      <th></th>\n",
       "      <th>bi keys</th>\n",
       "      <th>bi keys split</th>\n",
       "      <th>prob w</th>\n",
       "    </tr>\n",
       "  </thead>\n",
       "  <tbody>\n",
       "    <tr>\n",
       "      <th>96438</th>\n",
       "      <td>pei wei</td>\n",
       "      <td>[pei, wei]</td>\n",
       "      <td>0.003557</td>\n",
       "    </tr>\n",
       "    <tr>\n",
       "      <th>33742</th>\n",
       "      <td>pf chang</td>\n",
       "      <td>[pf, chang]</td>\n",
       "      <td>0.003472</td>\n",
       "    </tr>\n",
       "    <tr>\n",
       "      <th>189722</th>\n",
       "      <td>kung pao</td>\n",
       "      <td>[kung, pao]</td>\n",
       "      <td>0.003366</td>\n",
       "    </tr>\n",
       "    <tr>\n",
       "      <th>129116</th>\n",
       "      <td>pet peeve</td>\n",
       "      <td>[pet, peeve]</td>\n",
       "      <td>0.003124</td>\n",
       "    </tr>\n",
       "    <tr>\n",
       "      <th>181695</th>\n",
       "      <td>ami gabi</td>\n",
       "      <td>[ami, gabi]</td>\n",
       "      <td>0.003089</td>\n",
       "    </tr>\n",
       "  </tbody>\n",
       "</table>\n",
       "</div>"
      ],
      "text/plain": [
       "          bi keys bi keys split    prob w\n",
       "96438     pei wei    [pei, wei]  0.003557\n",
       "33742    pf chang   [pf, chang]  0.003472\n",
       "189722   kung pao   [kung, pao]  0.003366\n",
       "129116  pet peeve  [pet, peeve]  0.003124\n",
       "181695   ami gabi   [ami, gabi]  0.003089"
      ]
     },
     "execution_count": 74,
     "metadata": {},
     "output_type": "execute_result"
    }
   ],
   "source": [
    "p_w = [bi_vocab_smooth[b]/(mono_vocab_smooth[s[0]]*mono_vocab_smooth[s[1]]) for b,s in zip(bi_keys,bi_keys_split)]\n",
    "dfq4 = pd.DataFrame({'prob w':p_w,\n",
    "        'bi keys':bi_keys,\n",
    "        'bi keys split':bi_keys_split})\n",
    "dfq4 = dfq4.sort('prob w',ascending=False)\n",
    "dfq4 = dfq4[dfq4['prob w'] != np.inf]\n",
    "print dfq4['prob w'].describe()\n",
    "dfq4.head()"
   ]
  },
  {
   "cell_type": "markdown",
   "metadata": {},
   "source": [
    "Slightly more in depth\n",
    "\n",
    "Where does a phrase such as \"huevos rancheros\" appear in our list? I picked out the top phrase, huevos rancheros, and the 100th phrase to put them side by side."
   ]
  },
  {
   "cell_type": "code",
   "execution_count": 75,
   "metadata": {
    "collapsed": false
   },
   "outputs": [
    {
     "name": "stdout",
     "output_type": "stream",
     "text": [
      "bi keys split     [pei, wei]\n",
      "prob w           0.003557175\n",
      "Name: pei wei, dtype: object\n",
      "bi keys split    [huevos, rancheros]\n",
      "prob w                   0.002968827\n",
      "Name: huevos rancheros, dtype: object\n",
      "bi keys split    [claim, jumper]\n",
      "prob w                0.00147929\n",
      "Name: claim jumper, dtype: object\n"
     ]
    },
    {
     "data": {
      "text/plain": [
       "[u'pei wei',\n",
       " u'pf chang',\n",
       " u'kung pao',\n",
       " u'pet peeve',\n",
       " u'ami gabi',\n",
       " u'amuse bouche',\n",
       " u'mon ami',\n",
       " u'prix fixe',\n",
       " u'panna cotta',\n",
       " u'huevos rancheros',\n",
       " u'planet hollywood',\n",
       " u'tikka masala',\n",
       " u'bloody mary',\n",
       " u'loco moco',\n",
       " u'banh mi',\n",
       " u'foie gras',\n",
       " u'gon na',\n",
       " u'bok choy',\n",
       " u'los angeles',\n",
       " u'cole slaw',\n",
       " u'hong kong',\n",
       " u'butternut squash',\n",
       " u'bo hue',\n",
       " u'hush puppy',\n",
       " u'creme brulee',\n",
       " u'lotus siam',\n",
       " u'gordon ramsay',\n",
       " u'monte carlo',\n",
       " u'panda express',\n",
       " u'tater tot',\n",
       " u'wicked spoon',\n",
       " u'carne asada',\n",
       " u'wolfgang puck',\n",
       " u'cotton candy',\n",
       " u'surf turf',\n",
       " u'ropa vieja',\n",
       " u'pinot noir',\n",
       " u'croque madame',\n",
       " u'san francisco',\n",
       " u'dim sum',\n",
       " u'timely manner',\n",
       " u'mario batali',\n",
       " u'gulab jamun',\n",
       " u'saving grace',\n",
       " u'pun intended',\n",
       " u'wan na',\n",
       " u'joel robuchon',\n",
       " u'mu shu',\n",
       " u'san diego',\n",
       " u'mandalay bay',\n",
       " u'brussel sprout',\n",
       " u'nom nom',\n",
       " u'shabu shabu',\n",
       " u'chow mein',\n",
       " u'kim chee',\n",
       " u'hustle bustle',\n",
       " u'michael mina',\n",
       " u'il bosco',\n",
       " u'sea bass',\n",
       " u'spam musubi',\n",
       " u'eiffel tower',\n",
       " u'grey goose',\n",
       " u'tres lech',\n",
       " u'coca cola',\n",
       " u'circus circus',\n",
       " u'arnold palmer',\n",
       " u'kilt lifter',\n",
       " u'moscow mule',\n",
       " u'osso bucco',\n",
       " u'julian serrano',\n",
       " u'cabo wabo',\n",
       " u'mahi mahi',\n",
       " u'jose andres',\n",
       " u'jimmy john',\n",
       " u'johnny rocket',\n",
       " u'au jus',\n",
       " u'raising cane',\n",
       " u'santa fe',\n",
       " u'beaten path',\n",
       " u'brussels sprout',\n",
       " u'lau lau',\n",
       " u'al pastor',\n",
       " u'sauvignon blanc',\n",
       " u'cave creek',\n",
       " u'al dente',\n",
       " u'flip flop',\n",
       " u'bradley ogden',\n",
       " u'mason jar',\n",
       " u'conveyor belt',\n",
       " u'tommy bahama',\n",
       " u'filet mignon',\n",
       " u'croque monsieur',\n",
       " u'del frisco',\n",
       " u'thomas keller',\n",
       " u'bone marrow',\n",
       " u'language barrier',\n",
       " u'video poker',\n",
       " u'au gratin',\n",
       " u'trader joes',\n",
       " u'claim jumper']"
      ]
     },
     "execution_count": 75,
     "metadata": {},
     "output_type": "execute_result"
    }
   ],
   "source": [
    "x = dfq4.set_index('bi keys')\n",
    "top100 = list(dfq4['bi keys'][:100])\n",
    "#print type(top100)\n",
    "print x.xs(top100[0])\n",
    "print x.xs('huevos rancheros')\n",
    "print x.xs(top100[-1])\n",
    "top100"
   ]
  },
  {
   "cell_type": "markdown",
   "metadata": {},
   "source": [
    "It works! (mostly)\n",
    "\n",
    "I definitely see key word pairs (mostly for various ethnic foods, which is not surprising) including the alluring \"spam musubi\" which apparently is some horrible spam based 7/11 food that Hawaiians love. Who knew?"
   ]
  }
 ],
 "metadata": {
  "kernelspec": {
   "display_name": "Python 2",
   "language": "python",
   "name": "python2"
  },
  "language_info": {
   "codemirror_mode": {
    "name": "ipython",
    "version": 2
   },
   "file_extension": ".py",
   "mimetype": "text/x-python",
   "name": "python",
   "nbconvert_exporter": "python",
   "pygments_lexer": "ipython2",
   "version": "2.7.10"
  }
 },
 "nbformat": 4,
 "nbformat_minor": 0
}
