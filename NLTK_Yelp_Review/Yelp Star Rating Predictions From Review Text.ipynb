{
 "cells": [
  {
   "cell_type": "markdown",
   "metadata": {},
   "source": [
    "# Natural Language Processing\n",
    "## Predict Yelp star ratings from review text\n",
    "\n",
    "Unstructured data makes up the vast majority of data. Text of business reviews on Yelp are unstructured and can have predictive value. My objective is to be able to predict the Yelp star rating a user provides, given the text of their review.\n",
    "\n",
    "The models will be assessed base on their coeffecient of determination.\n",
    "\n",
    "The data can be found here: http://thedataincubator.s3.amazonaws.com/coursedata/mldata/yelp_train_academic_dataset_review.json.gz\n",
    "\n",
    "### Load and parse the data\n",
    "Load and parse the json using the `simplejson` library. Then convert it to a `pandas` data frame and remove columns I won't need to free up memory."
   ]
  },
  {
   "cell_type": "code",
   "execution_count": 6,
   "metadata": {
    "collapsed": false
   },
   "outputs": [
    {
     "data": {
      "text/html": [
       "<div>\n",
       "<table border=\"1\" class=\"dataframe\">\n",
       "  <thead>\n",
       "    <tr style=\"text-align: right;\">\n",
       "      <th></th>\n",
       "      <th>business_id</th>\n",
       "      <th>stars</th>\n",
       "      <th>text</th>\n",
       "    </tr>\n",
       "  </thead>\n",
       "  <tbody>\n",
       "    <tr>\n",
       "      <th>0</th>\n",
       "      <td>_wZTYYL7cutanzAnJUTGMA</td>\n",
       "      <td>3</td>\n",
       "      <td>We had dinner at the Beach House on Friday on ...</td>\n",
       "    </tr>\n",
       "    <tr>\n",
       "      <th>1</th>\n",
       "      <td>89O2bCyo92IpEEvgFXqOMw</td>\n",
       "      <td>5</td>\n",
       "      <td>Great cousins!  The subs are always good and t...</td>\n",
       "    </tr>\n",
       "    <tr>\n",
       "      <th>2</th>\n",
       "      <td>n7G3zKFSgTrl2KE5HpzLcw</td>\n",
       "      <td>5</td>\n",
       "      <td>Had to get a smoothie after 3 hours of shoppin...</td>\n",
       "    </tr>\n",
       "    <tr>\n",
       "      <th>3</th>\n",
       "      <td>YZxA6w82eFJFntwqJLln6w</td>\n",
       "      <td>3</td>\n",
       "      <td>No cover for military.  That's awesome and fre...</td>\n",
       "    </tr>\n",
       "    <tr>\n",
       "      <th>4</th>\n",
       "      <td>W6gPrnthBK7i1pe4ZZlJDQ</td>\n",
       "      <td>4</td>\n",
       "      <td>I don't understand why the ratings for this pl...</td>\n",
       "    </tr>\n",
       "  </tbody>\n",
       "</table>\n",
       "</div>"
      ],
      "text/plain": [
       "              business_id  stars  \\\n",
       "0  _wZTYYL7cutanzAnJUTGMA      3   \n",
       "1  89O2bCyo92IpEEvgFXqOMw      5   \n",
       "2  n7G3zKFSgTrl2KE5HpzLcw      5   \n",
       "3  YZxA6w82eFJFntwqJLln6w      3   \n",
       "4  W6gPrnthBK7i1pe4ZZlJDQ      4   \n",
       "\n",
       "                                                text  \n",
       "0  We had dinner at the Beach House on Friday on ...  \n",
       "1  Great cousins!  The subs are always good and t...  \n",
       "2  Had to get a smoothie after 3 hours of shoppin...  \n",
       "3  No cover for military.  That's awesome and fre...  \n",
       "4  I don't understand why the ratings for this pl...  "
      ]
     },
     "execution_count": 6,
     "metadata": {},
     "output_type": "execute_result"
    }
   ],
   "source": [
    "import re\n",
    "import gzip\n",
    "import nltk\n",
    "import timeit\n",
    "import simplejson\n",
    "import numpy as np\n",
    "import pandas as pd\n",
    "import seaborn as sns\n",
    "import matplotlib.pylab as plt\n",
    "import nltk.tokenize as tokenize\n",
    "from sklearn import linear_model\n",
    "from sklearn.externals import joblib\n",
    "from sklearn import cross_validation, grid_search\n",
    "from sklearn.pipeline import FeatureUnion, Pipeline\n",
    "from sklearn.feature_extraction.text import CountVectorizer, HashingVectorizer\n",
    "from sklearn.metrics import mean_squared_error, r2_score, accuracy_score, mean_absolute_error\n",
    "\n",
    "plt.style.use('ggplot')\n",
    "%matplotlib inline\n",
    "pd.options.display.max_columns=25\n",
    "\n",
    "runit = 0\n",
    "\n",
    "if runit:\n",
    "    data = gzip.open('yelp_train_academic_dataset_review.json.gz')\n",
    "    data_content = data.read()\n",
    "    data.close()\n",
    "    lines= re.split('\\n',data_content)\n",
    "    json_data = [simplejson.loads(line) for line in lines[:-1]]\n",
    "    df = pd.DataFrame(json_data)\n",
    "    del(json_data)\n",
    "    df.info()\n",
    "\n",
    "    ### all pasted code here on out\n",
    "    cols_to_drop = ['date','review_id','type','user_id','votes']\n",
    "    df.drop(cols_to_drop, axis=1, inplace=True)\n",
    "    df.info()\n",
    "\n",
    "    rows = np.random.choice(df.index.values,55000,replace=False)\n",
    "    sampled_df = df.ix[rows]\n",
    "    sampled_df.to_json('Yelp_review_text_stars_55000.json')\n",
    "    del(df)\n",
    "else:\n",
    "    sampled_df = pd.read_json('Yelp_review_text_stars_55000.json')\n",
    "    sampled_df.reset_index(drop=True,inplace=True)\n",
    "\n",
    "sampled_df.head(5)"
   ]
  },
  {
   "cell_type": "markdown",
   "metadata": {},
   "source": [
    "## Bag of Words\n",
    "I will first build a bag of words model. I will build a linear model based on the count of the words in each review.\n",
    "\n",
    "### Feature Extraction from Text\n",
    "#### HashingVectorizer\n",
    "I first need to tokenize the yelp reviews to break them into individual words. For this process I used the `nltk` package and the `HashingVectorizer` from `sklearn`. `HashingVectorizer` uses a hashtable to more efficiently store the large dictionary from the yelp reviews. \n",
    "\n",
    "One of the limitations of the `HashingVectorizer` is that is does not record the mapping: if you want to go back and forth that information is lost. However, I am concerned with a BagOfWords model to predict rating stars.  I don't care what words predict 5 stars: `HashingVectorizer` will suffice.\n",
    "\n",
    "#### Stopwords\n",
    "Common english language words were filtered using a `nltk` subpackage and the `stopwords` parameter in `HashingVectorizer`. Stop words are words we want to omit because they are common and do not tend to give us any value as to the meaning of reviews. Example of stop words are: \"a\", \"an\", \"the\", \"it\", \"he\", \"her\". \n",
    "\n",
    "#### Lemmatization\n",
    "I also found it necessary to use word lemmatization. Lemmatization is an NLP strategy to lower the vocabulary space by combining words that have the same root. For example, in English, the verb 'to jump' may appear as 'jump', 'jumped', 'jumps', 'jumping'. The base form, 'jump', that one might look up in a dictionary, is called the *lemma* for the word. I use `nltk`'s `WordNetLemmatizer`."
   ]
  },
  {
   "cell_type": "code",
   "execution_count": 7,
   "metadata": {
    "collapsed": true
   },
   "outputs": [],
   "source": [
    "from nltk.stem import WordNetLemmatizer\n",
    "from nltk import word_tokenize\n",
    "class LemmaTokenizer(object):\n",
    "    def __init__(self):\n",
    "        self.wnl = WordNetLemmatizer()\n",
    "    def __call__(self, doc):\n",
    "        return [self.wnl.lemmatize(t) for t in word_tokenize(doc)]"
   ]
  },
  {
   "cell_type": "markdown",
   "metadata": {},
   "source": [
    "Setup the test and training data sets."
   ]
  },
  {
   "cell_type": "code",
   "execution_count": 8,
   "metadata": {
    "collapsed": true
   },
   "outputs": [],
   "source": [
    "text_train,text_test,stars_train,stars_test = cross_validation.train_test_split(sampled_df['text'],sampled_df['stars'],\n",
    "                                                                               test_size=0.2, random_state=23)\n"
   ]
  },
  {
   "cell_type": "code",
   "execution_count": 9,
   "metadata": {
    "collapsed": false
   },
   "outputs": [
    {
     "data": {
      "image/png": "[encoded data removed]",
      "text/plain": [
       "<matplotlib.figure.Figure at 0xaee7d30>"
      ]
     },
     "metadata": {},
     "output_type": "display_data"
    }
   ],
   "source": [
    "#check our distributions of stars between train and test\n",
    "stars_train.hist( alpha=0.3 ,stacked=False,normed=True,color='red')\n",
    "stars_test.hist( alpha=0.3 ,stacked=False,normed=True,color='blue')\n",
    "plt.legend(['Train','Test'])\n",
    "f = plt.gcf()\n",
    "f.set_size_inches(6,4)\n",
    "plt.ylabel(\"R^2\")\n",
    "plt.savefig('ML_Yelp_Rev_starhist.png',dpi=300)"
   ]
  },
  {
   "cell_type": "markdown",
   "metadata": {},
   "source": [
    "#### Model Fitting\n",
    "\n",
    "I use `SGDRegressor`, which implements a plain stochastic gradient descent learning routine, to fit my bag of words model to the star rating on Yelp. It is well suited for regression problems with a large number of training samples (> 10000). Cross validation was used to validate the test set and prevent overfitting.\n",
    "\n",
    "The `Pipeline` function of sklearn was used to quickly and easily link preprocessing (`HashingVectorizer`) and estimator (`SGDRegressor`) steps of my machine learning model.\n",
    "\n",
    "#### N-grams of size 1\n",
    "I will use a ngram size of one for the first model. Only single words are hashed."
   ]
  },
  {
   "cell_type": "code",
   "execution_count": 11,
   "metadata": {
    "collapsed": false
   },
   "outputs": [
    {
     "name": "stdout",
     "output_type": "stream",
     "text": [
      "Monogram RMSE:  0.792396804606\n",
      "Monogram MAE:  0.625059644981\n",
      "Monogram R^2:  0.620905936123\n"
     ]
    }
   ],
   "source": [
    "if runit:\n",
    "    hv_mono = HashingVectorizer(tokenizer=LemmaTokenizer(),norm='l2',ngram_range=(1,1),stop_words=nltk.corpus.stopwords.words('english'))\n",
    "    hv_mono_counts = hv_mono.fit_transform(sampled_df['text'])\n",
    "    joblib.dump(hv_mono,'hash_vectorizer_mono.pkl')\n",
    "    del(hv_mono_counts)\n",
    "    #fit model\n",
    "    tic=timeit.default_timer()\n",
    "    monogram_pipeline = Pipeline([\n",
    "    ('vect', hv_mono),\n",
    "    ('lm', linear_model.SGDRegressor(n_iter=6000,alpha=.00001,penalty='l2')),\n",
    "    ])\n",
    "    monogram_pipeline.fit(text_train,stars_train)\n",
    "    toc=timeit.default_timer()\n",
    "    print toc - tic\n",
    "    joblib.dump(monogram_pipeline,'monogram_pipeline.pkl')\n",
    "else:\n",
    "    nv_mono = joblib.load('hash_vectorizer_mono.pkl')\n",
    "    monogram_pipeline=joblib.load('monogram_pipeline.pkl')\n",
    "\n",
    "preds = monogram_pipeline.predict(text_test)\n",
    "print 'Monogram RMSE: ', mean_squared_error(stars_test,preds)**0.5\n",
    "print 'Monogram MAE: ', mean_absolute_error(stars_test,preds)\n",
    "print 'Monogram R^2: ', r2_score(stars_test,preds)"
   ]
  },
  {
   "cell_type": "markdown",
   "metadata": {},
   "source": [
    "The score above is the coefficient of determination R^2 of the prediction. So 62% of the variannce in star rating is predictable from monograms of the review text. Let's look at how these predictions line up with the actual data."
   ]
  },
  {
   "cell_type": "code",
   "execution_count": 6,
   "metadata": {
    "collapsed": false
   },
   "outputs": [
    {
     "data": {
      "text/plain": [
       "<matplotlib.text.Text at 0x240dbd30>"
      ]
     },
     "execution_count": 6,
     "metadata": {},
     "output_type": "execute_result"
    },
    {
     "data": {
      "image/png": "[encoded data removed]",
      "text/plain": [
       "<matplotlib.figure.Figure at 0x3d09a90>"
      ]
     },
     "metadata": {},
     "output_type": "display_data"
    }
   ],
   "source": [
    "plt.scatter(stars_test[:500],preds[:500])\n",
    "plt.xlabel('True Star Rating')\n",
    "plt.ylabel('Predicted')\n",
    "plt.title('Monogram Model')"
   ]
  },
  {
   "cell_type": "markdown",
   "metadata": {},
   "source": [
    "#### N-grams of size 2\n",
    "I will use a ngram size of one for the next model. These bigrams are two adjacent words from the text."
   ]
  },
  {
   "cell_type": "code",
   "execution_count": 12,
   "metadata": {
    "collapsed": false
   },
   "outputs": [
    {
     "name": "stdout",
     "output_type": "stream",
     "text": [
      "Bigram RMSE:  0.649430728128\n",
      "Bigram MAE:  0.506666155077\n",
      "Bigram R^2:  0.745359651404\n"
     ]
    }
   ],
   "source": [
    "if runit:\n",
    "    hv_bi = HashingVectorizer(tokenizer=LemmaTokenizer(),norm='l2',ngram_range=(2,2),stop_words=nltk.corpus.stopwords.words('english'))\n",
    "    hv_bi_counts = hv_bi.fit_transform(sampled_df['text'])\n",
    "    joblib.dump(hv_bi,'hash_vectorizer_bi.pkl')\n",
    "    del(hv_bi_counts)\n",
    "    #fit model\n",
    "    tic=timeit.default_timer()\n",
    "    bigram_pipeline = Pipeline([\n",
    "    ('vect', hv_bi),\n",
    "    ('lm', linear_model.SGDRegressor(n_iter=6000,alpha=.00001,penalty='l2')),\n",
    "    ])\n",
    "    bigram_pipeline.fit(text_train,stars_train)\n",
    "    toc=timeit.default_timer()\n",
    "    print toc - tic\n",
    "    joblib.dump(bigram_pipeline,'bigram_pipeline.pkl')\n",
    "else:\n",
    "    hv_bi = joblib.load('hash_vectorizer_bi.pkl')\n",
    "    bigram_pipeline=joblib.load('bigram_pipeline.pkl')\n",
    "\n",
    "preds = bigram_pipeline.predict(text_test)\n",
    "print 'Bigram RMSE: ', mean_squared_error(stars_test,preds)**0.5\n",
    "print 'Bigram MAE: ', mean_absolute_error(stars_test,preds)\n",
    "print 'Bigram R^2: ', r2_score(stars_test,preds)"
   ]
  },
  {
   "cell_type": "markdown",
   "metadata": {},
   "source": [
    "Bigrams do not do better than monograms. Let's plot these predictions."
   ]
  },
  {
   "cell_type": "code",
   "execution_count": 8,
   "metadata": {
    "collapsed": false
   },
   "outputs": [
    {
     "data": {
      "text/plain": [
       "<matplotlib.text.Text at 0x241a5470>"
      ]
     },
     "execution_count": 8,
     "metadata": {},
     "output_type": "execute_result"
    },
    {
     "data": {
      "image/png": "[encoded data removed]",
      "text/plain": [
       "<matplotlib.figure.Figure at 0x24107fd0>"
      ]
     },
     "metadata": {},
     "output_type": "display_data"
    }
   ],
   "source": [
    "plt.scatter(stars_test[:500],preds[:500])\n",
    "plt.xlabel('True Star Rating')\n",
    "plt.ylabel('Predicted')\n",
    "plt.title('Bigram Model')"
   ]
  },
  {
   "cell_type": "code",
   "execution_count": 9,
   "metadata": {
    "collapsed": false
   },
   "outputs": [
    {
     "name": "stdout",
     "output_type": "stream",
     "text": [
      "Bi- and Monogram RMSE:  0.659858030787\n",
      "Bi- and Monogram MAE:  0.515989109455\n",
      "Bi- and Monogram R^2:  0.737116961314\n"
     ]
    }
   ],
   "source": [
    "if runit:\n",
    "    hv_monobi = HashingVectorizer(tokenizer=LemmaTokenizer(),norm='l2',ngram_range=(1,2),stop_words=nltk.corpus.stopwords.words('english'))\n",
    "    hv_monobi_counts = hv_monobi.fit_transform(sampled_df['text'])\n",
    "    joblib.dump(hv_monobi,'hash_vectorizer_monobi.pkl')\n",
    "    del(hv_monobi_counts)\n",
    "    #fit model\n",
    "    tic=timeit.default_timer()\n",
    "    monobi_pipeline = Pipeline([\n",
    "    ('vect', hv_monobi),\n",
    "    ('lm', linear_model.Ridge()),\n",
    "    ])\n",
    "    monobi_pipeline.fit(text_train,stars_train)\n",
    "    toc=timeit.default_timer()\n",
    "    print toc - tic\n",
    "    joblib.dump(monobi_pipeline,'monobi_pipeline.pkl')\n",
    "else:\n",
    "    hv_monobi = joblib.load('hash_vectorizer_monobi.pkl')\n",
    "    monobi_pipeline=joblib.load('monobi_pipeline.pkl')\n",
    "\n",
    "preds = monobi_pipeline.predict(text_test)\n",
    "print 'Bi- and Monogram RMSE: ', mean_squared_error(stars_test,preds)**0.5\n",
    "print 'Bi- and Monogram MAE: ', mean_absolute_error(stars_test,preds)\n",
    "print 'Bi- and Monogram R^2: ', r2_score(stars_test,preds)"
   ]
  },
  {
   "cell_type": "markdown",
   "metadata": {},
   "source": [
    "The bi- and mono-gram model does not perform better than the bigram model."
   ]
  },
  {
   "cell_type": "code",
   "execution_count": 10,
   "metadata": {
    "collapsed": false
   },
   "outputs": [
    {
     "data": {
      "text/plain": [
       "<matplotlib.text.Text at 0x244e7c50>"
      ]
     },
     "execution_count": 10,
     "metadata": {},
     "output_type": "execute_result"
    },
    {
     "data": {
      "image/png": "[encoded data removed]",
      "text/plain": [
       "<matplotlib.figure.Figure at 0x243efdd8>"
      ]
     },
     "metadata": {},
     "output_type": "display_data"
    }
   ],
   "source": [
    "plt.scatter(stars_test[:500],preds[:500])\n",
    "plt.xlabel('True Star Rating')\n",
    "plt.ylabel('Predicted')\n",
    "plt.title('Mono- and Bi-gram Model')"
   ]
  },
  {
   "cell_type": "code",
   "execution_count": 18,
   "metadata": {
    "collapsed": false
   },
   "outputs": [
    {
     "name": "stdout",
     "output_type": "stream",
     "text": [
      "Bi- and Monogram Linear Regression RMSE:  0.624587741634\n",
      "Bi- and Monogram Linear Regression MAE:  0.484675855615\n",
      "Bi- and Monogram Linear Regression R^2:  0.764468788678\n"
     ]
    }
   ],
   "source": [
    "if runit:\n",
    "    pred_mono_train = monogram_pipeline.predict(text_train)\n",
    "    pred_bi_train = bigram_pipeline.predict(text_train)\n",
    "    pred_combined_train = [[p1,p2] for p1,p2 in zip(pred_mono_train,pred_bi_train)]\n",
    "    lm = linear_model.LinearRegression(normalize=True,n_jobs=2)\n",
    "    lm.fit(pred_combined_train,stars_train)\n",
    "    joblib.dump(lm,'LM_monobi.pkl')\n",
    "else:\n",
    "    lm = joblib.load('LM_monobi.pkl')\n",
    "\n",
    "pred_mono_test = monogram_pipeline.predict(text_test)\n",
    "pred_bi_test = bigram_pipeline.predict(text_test)\n",
    "pred_combined_test = [[p1,p2] for p1,p2 in zip(pred_mono_test,pred_bi_test)]\n",
    "preds = lm.predict(pred_combined_test)\n",
    "print 'Bi- and Monogram Linear Regression RMSE: ', mean_squared_error(stars_test,preds)**0.5\n",
    "print 'Bi- and Monogram Linear Regression MAE: ', mean_absolute_error(stars_test,preds)\n",
    "print 'Bi- and Monogram Linear Regression R^2: ', r2_score(stars_test,preds)"
   ]
  },
  {
   "cell_type": "markdown",
   "metadata": {},
   "source": [
    "The linear model of the combined predictions from monograms and bigrams has a stronger predictive power than either alone!\n"
   ]
  },
  {
   "cell_type": "code",
   "execution_count": 23,
   "metadata": {
    "collapsed": false
   },
   "outputs": [
    {
     "data": {
      "image/png": "[encoded data removed]",
      "text/plain": [
       "<matplotlib.figure.Figure at 0x1b78a2e8>"
      ]
     },
     "metadata": {},
     "output_type": "display_data"
    }
   ],
   "source": [
    "plt.scatter(stars_test[:500],preds[:500])\n",
    "plt.xlabel('True Star Rating')\n",
    "plt.ylabel('Predicted')\n",
    "plt.title('Mono- and Bi-gram Linear Model Model')\n",
    "f = plt.gcf()\n",
    "f.set_size_inches(6,4)\n",
    "plt.savefig('ML_Yelp_Rev_LM.png',dpi=300)"
   ]
  },
  {
   "cell_type": "markdown",
   "metadata": {},
   "source": [
    "Great! Our model captures 76% of the variation. Now I will round the predictions and cap the values to 1 and 5. This will allow me to assess the accuracy of the model to predict the actual star rating."
   ]
  },
  {
   "cell_type": "code",
   "execution_count": 20,
   "metadata": {
    "collapsed": false
   },
   "outputs": [
    {
     "name": "stdout",
     "output_type": "stream",
     "text": [
      "R^2 of pred:  0.764468788678\n",
      "R^2 of rnd :  0.734182642237\n",
      "Accuracy  rnd:  0.623\n"
     ]
    }
   ],
   "source": [
    "#stars_test_pred = lm.predict(pred_combined_test)\n",
    "\n",
    "def round_limit_preds(pred):\n",
    "    rndp = np.rint(pred)\n",
    "    rndp[rndp>5]=5\n",
    "    rndp[rndp<1]=1\n",
    "    return rndp\n",
    "\n",
    "stars_test_pred_rnd = round_limit_preds(preds)\n",
    "\n",
    "print 'R^2 of pred: ', r2_score(stars_test, preds)\n",
    "print 'R^2 of rnd : ', r2_score(stars_test, stars_test_pred_rnd)\n",
    "from sklearn.metrics import accuracy_score\n",
    "mod_acc = accuracy_score(stars_test,stars_test_pred_rnd)\n",
    "print 'Accuracy  rnd: ', mod_acc"
   ]
  },
  {
   "cell_type": "code",
   "execution_count": 21,
   "metadata": {
    "collapsed": false
   },
   "outputs": [
    {
     "name": "stdout",
     "output_type": "stream",
     "text": [
      "5    3908\n",
      "4    3409\n",
      "3    1643\n",
      "1    1051\n",
      "2     989\n",
      "dtype: int64\n",
      "Baseline Accuracy:  0.355272727273\n",
      "Model Improvement over baseline:  0.267727272727\n"
     ]
    }
   ],
   "source": [
    "stars_test_counts = stars_test.value_counts()\n",
    "print stars_test_counts\n",
    "bl_acc = (0.+stars_test_counts.values[0])/np.sum(stars_test_counts.values)\n",
    "print 'Baseline Accuracy: ', bl_acc\n",
    "print 'Model Improvement over baseline: ', mod_acc - bl_acc"
   ]
  },
  {
   "cell_type": "markdown",
   "metadata": {},
   "source": [
    "### Bag of Words conclusion\n",
    "My model has an accuracy of .623. This is a significant improvement over the baseline accuracy (If one were to choose the most common class) of .355.\n",
    "\n",
    "Let's take one final look at the plots of my rounded model."
   ]
  },
  {
   "cell_type": "code",
   "execution_count": 24,
   "metadata": {
    "collapsed": false
   },
   "outputs": [
    {
     "data": {
      "image/png": "[encoded data removed]",
      "text/plain": [
       "<matplotlib.figure.Figure at 0x1b833668>"
      ]
     },
     "metadata": {},
     "output_type": "display_data"
    }
   ],
   "source": [
    "plt.scatter(stars_test[:500],stars_test_pred_rnd[:500])\n",
    "plt.xlabel('True Star Rating')\n",
    "plt.ylabel('Predicted')\n",
    "plt.title('Mono- and Bi-gram Linear Model Rounded Model')\n",
    "f = plt.gcf()\n",
    "f.set_size_inches(6,4)\n",
    "plt.savefig('ML_Yelp_Rev_LMrnd.png',dpi=300)"
   ]
  },
  {
   "cell_type": "markdown",
   "metadata": {},
   "source": [
    "For true 1- and 2- star ratings, the model is predicting anywhere from 1 to 4. True 3-star ratings get predictions between 2 and 4, which is encouraging.\n",
    "The 4- and 5- star ratings are usually predicted in the 3-5 range. This makes sense, as it is relatively difficult to determine between 4 and 5 stars.\n",
    "\n",
    "### Future work\n",
    "Future work on this could try to categorize 1-2 star reviews from 4-5 star reviews. Turning this into a 2-class good/bad classification may not only improve the predictions, but is also more relatable to the real world. If I am making a decision about whether I am going to a business based on the yelp stars, there is no discernable difference between 4 and 5 star rated businesses. However, I do care about the difference between a 4-star and a 2-star business."
   ]
  },
  {
   "cell_type": "code",
   "execution_count": 25,
   "metadata": {
    "collapsed": false
   },
   "outputs": [
    {
     "data": {
      "image/png": "[encoded data removed]",
      "text/plain": [
       "<matplotlib.figure.Figure at 0x22af1588>"
      ]
     },
     "metadata": {},
     "output_type": "display_data"
    }
   ],
   "source": [
    "import matplotlib.pyplot as plt\n",
    "plt.style.use('ggplot')\n",
    "%matplotlib inline\n",
    "plt.bar([1,2,3,4],[0.620905936123, 0.745359651404, 0.737116961314, 0.764468788678, ])\n",
    "plt.xticks([1.5,2.5,3.5,4.5], ['Monogram','Bigram','Mono- Bi-gram','Mono- Bi-gram LM'],rotation=10)\n",
    "#plt.gca().set_xticklabel(['City','LatLong','Attribute','Category'])\n",
    "#plt.g\n",
    "#plt.xticks(['City','LatLong','Attribute','Category'])\n",
    "f = plt.gcf()\n",
    "f.set_size_inches(6,4)\n",
    "plt.ylabel(\"R^2\")\n",
    "plt.savefig('NLP_Yelp_Rev.png',dpi=300)"
   ]
  },
  {
   "cell_type": "code",
   "execution_count": null,
   "metadata": {
    "collapsed": true
   },
   "outputs": [],
   "source": []
  },
  {
   "cell_type": "code",
   "execution_count": null,
   "metadata": {
    "collapsed": true
   },
   "outputs": [],
   "source": []
  },
  {
   "cell_type": "code",
   "execution_count": null,
   "metadata": {
    "collapsed": true
   },
   "outputs": [],
   "source": []
  },
  {
   "cell_type": "code",
   "execution_count": null,
   "metadata": {
    "collapsed": true
   },
   "outputs": [],
   "source": []
  },
  {
   "cell_type": "code",
   "execution_count": null,
   "metadata": {
    "collapsed": true
   },
   "outputs": [],
   "source": []
  },
  {
   "cell_type": "code",
   "execution_count": null,
   "metadata": {
    "collapsed": true
   },
   "outputs": [],
   "source": []
  },
  {
   "cell_type": "code",
   "execution_count": null,
   "metadata": {
    "collapsed": true
   },
   "outputs": [],
   "source": []
  },
  {
   "cell_type": "markdown",
   "metadata": {},
   "source": [
    "### Top restaurant bigrams\n",
    "\n",
    "Looking at only reviews of restaurants I next wanted to identify word pairs in reviews that are more likely than the individual words alone. These might be strongly indicative of \"foodie\" type words that you might expect to find in a yelp review such as \"huevos rancheros\".\n",
    "\n",
    "We can find word pairs that are unlikely to occur consecutively based on the underlying probability of their words.\n",
    "\n",
    "Mathematically, if $p(w)$ be the probability of a word w and $p(w1w2)$ is the probability of the bigram $w1w2$, then we want to look at word pairs $w1w2$ where the statistic\n",
    "\n",
    "$p(w1w2)/p(w1)/p(w2)$\n",
    "\n",
    "is high.\n",
    "\n",
    "This metric is, however, problematic when $p(w_1)$ and/or $p(w_2)$ are small. This can be fixed with Bayesian smoothing or additive smoothing which essentially adds a constant factor to all probabilities. This factor sets the scale for the number of appearances a word must be used in the overall corpus before it is considered relevent.\n",
    "\n",
    "First I need to load in a second data set that idenitifies which businesses are restaurants and do an SQL style join on my two pandas dataframes. This will allow me to select reviews that only correspond to restaurants and by extension special food bigrams."
   ]
  },
  {
   "cell_type": "code",
   "execution_count": 91,
   "metadata": {
    "collapsed": true
   },
   "outputs": [],
   "source": [
    "data = gzip.open('../ML_Yelp_BusFeatures/yelp_train_academic_dataset_business.json.gz')\n",
    "data_content_biz = data.read()\n",
    "data.close()\n",
    "lines= re.split('\\n',data_content_biz)\n",
    "json_data = [simplejson.loads(line) for line in lines[:-1]]\n",
    "dfbiz = pd.DataFrame(json_data)\n",
    "\n",
    "restaurant = []\n",
    "for i in dfbiz.index:\n",
    "    restaurant.append(sum([1 for cat in dfbiz.iloc[i]['categories'] if re.match('Restaurants',cat)]))\n",
    "dfbiz['restaurant'] = restaurant\n",
    "df_big = pd.merge(sampled_df,dfbiz,on='business_id')\n",
    "df_rest = df_big[df_big['restaurant']==1]"
   ]
  },
  {
   "cell_type": "markdown",
   "metadata": {},
   "source": [
    "### CountVectorizer\n",
    "\n",
    "Previously I used `HashingVectorizer` to take advantage of its smaller size and memory efficiency. As discussed before, `HashingVectorizer` cannot give you backward compatibility: you lose what word corresponds to what index. Since I now want to know what the words are, I switched over to `CountVectorizer`."
   ]
  },
  {
   "cell_type": "code",
   "execution_count": 92,
   "metadata": {
    "collapsed": true
   },
   "outputs": [],
   "source": [
    "tic = timeit.default_timer()\n",
    "cvbi = CountVectorizer(tokenizer=LemmaTokenizer(),ngram_range=(2,2),stop_words=nltk.corpus.stopwords.words('english'))\n",
    "bi = cvbi.fit_transform(df_rest['text'])\n",
    "cvmono = CountVectorizer(tokenizer=LemmaTokenizer(),ngram_range=(1,1),stop_words=nltk.corpus.stopwords.words('english'))\n",
    "mono = cvmono.fit_transform(df_rest['text'])\n",
    "bi_keys = cvbi.vocabulary_.keys() \n",
    "mono_keys = cvmono.vocabulary_.keys() \n",
    "bi_keys_split = [re.split('\\s',key) for key in bi_keys]\n",
    "toc = timeit.default_timer()\n",
    "print toc - tic"
   ]
  },
  {
   "cell_type": "markdown",
   "metadata": {},
   "source": [
    "### Bayesian smoothing function\n",
    "\n",
    "I tried several different approaches for setting the alpha factor (as can be seen in the commented out lines). In general, an alpha set around the mean count of all words appeared to be roughly appropriate."
   ]
  },
  {
   "cell_type": "code",
   "execution_count": 93,
   "metadata": {
    "collapsed": true
   },
   "outputs": [],
   "source": [
    "def bayesian_smooth(vocab,keys,data,alpha_factor=1):\n",
    "    N = data.sum()\n",
    "    d = float(len(keys))\n",
    "    count = np.array(data.sum(0))[0]\n",
    "    print np.mean(count)\n",
    "    bayes = {}\n",
    "    for key in keys:\n",
    "        bayes[key] = float((count[vocab[key]]+alpha_factor))\n",
    "    return bayes"
   ]
  },
  {
   "cell_type": "code",
   "execution_count": 95,
   "metadata": {
    "collapsed": false
   },
   "outputs": [
    {
     "name": "stdout",
     "output_type": "stream",
     "text": [
      "48.9940019453\n",
      "3.38991997963\n"
     ]
    }
   ],
   "source": [
    "monoalpha = 46\n",
    "bialpha = 2\n",
    "mono_vocab_smooth = bayesian_smooth(cvmono.vocabulary_,cvmono.vocabulary_.keys(),mono,monoalpha)\n",
    "bi_vocab_smooth = bayesian_smooth(cvbi.vocabulary_,cvbi.vocabulary_.keys(),bi,bialpha)"
   ]
  },
  {
   "cell_type": "markdown",
   "metadata": {},
   "source": [
    "### Initial results\n",
    "\n",
    "I calculated p_w and built the results into a dataframe for analysis and selection of the top 100."
   ]
  },
  {
   "cell_type": "code",
   "execution_count": 96,
   "metadata": {
    "collapsed": false
   },
   "outputs": [
    {
     "name": "stdout",
     "output_type": "stream",
     "text": [
      "count    7.931730e+05\n",
      "mean     6.182152e-05\n",
      "std      1.828306e-04\n",
      "min      4.299308e-09\n",
      "25%      1.356359e-06\n",
      "50%      6.019407e-06\n",
      "75%      2.881734e-05\n",
      "max      5.206706e-03\n",
      "Name: prob w, dtype: float64\n"
     ]
    },
    {
     "data": {
      "text/html": [
       "<div>\n",
       "<table border=\"1\" class=\"dataframe\">\n",
       "  <thead>\n",
       "    <tr style=\"text-align: right;\">\n",
       "      <th></th>\n",
       "      <th>bi keys</th>\n",
       "      <th>bi keys split</th>\n",
       "      <th>prob w</th>\n",
       "    </tr>\n",
       "  </thead>\n",
       "  <tbody>\n",
       "    <tr>\n",
       "      <th>370425</th>\n",
       "      <td>hong kong</td>\n",
       "      <td>[hong, kong]</td>\n",
       "      <td>0.005207</td>\n",
       "    </tr>\n",
       "    <tr>\n",
       "      <th>141328</th>\n",
       "      <td>pei wei</td>\n",
       "      <td>[pei, wei]</td>\n",
       "      <td>0.005072</td>\n",
       "    </tr>\n",
       "    <tr>\n",
       "      <th>346932</th>\n",
       "      <td>hush puppy</td>\n",
       "      <td>[hush, puppy]</td>\n",
       "      <td>0.005056</td>\n",
       "    </tr>\n",
       "    <tr>\n",
       "      <th>9790</th>\n",
       "      <td>panna cotta</td>\n",
       "      <td>[panna, cotta]</td>\n",
       "      <td>0.004934</td>\n",
       "    </tr>\n",
       "    <tr>\n",
       "      <th>209469</th>\n",
       "      <td>patatas bravas</td>\n",
       "      <td>[patatas, bravas]</td>\n",
       "      <td>0.004611</td>\n",
       "    </tr>\n",
       "  </tbody>\n",
       "</table>\n",
       "</div>"
      ],
      "text/plain": [
       "               bi keys      bi keys split    prob w\n",
       "370425       hong kong       [hong, kong]  0.005207\n",
       "141328         pei wei         [pei, wei]  0.005072\n",
       "346932      hush puppy      [hush, puppy]  0.005056\n",
       "9790       panna cotta     [panna, cotta]  0.004934\n",
       "209469  patatas bravas  [patatas, bravas]  0.004611"
      ]
     },
     "execution_count": 96,
     "metadata": {},
     "output_type": "execute_result"
    }
   ],
   "source": [
    "p_w = [bi_vocab_smooth[b]/(mono_vocab_smooth[s[0]]*mono_vocab_smooth[s[1]]) for b,s in zip(bi_keys,bi_keys_split)]\n",
    "dfq4 = pd.DataFrame({'prob w':p_w,\n",
    "        'bi keys':bi_keys,\n",
    "        'bi keys split':bi_keys_split})\n",
    "dfq4 = dfq4.sort('prob w',ascending=False)\n",
    "dfq4 = dfq4[dfq4['prob w'] != np.inf]\n",
    "print dfq4['prob w'].describe()\n",
    "dfq4.head()"
   ]
  },
  {
   "cell_type": "markdown",
   "metadata": {},
   "source": [
    "Slightly more in depth\n",
    "\n",
    "Where does a phrase such as \"huevos rancheros\" appear in our list? I picked out the top phrase, huevos rancheros, and the 100th phrase to put them side by side."
   ]
  },
  {
   "cell_type": "code",
   "execution_count": 97,
   "metadata": {
    "collapsed": false
   },
   "outputs": [
    {
     "name": "stdout",
     "output_type": "stream",
     "text": [
      "bi keys split    [hong, kong]\n",
      "prob w            0.005206706\n",
      "Name: hong kong, dtype: object\n",
      "bi keys split    [huevos, rancheros]\n",
      "prob w                   0.004504505\n",
      "Name: huevos rancheros, dtype: object\n",
      "bi keys split    [tammie, coe]\n",
      "prob w             0.002539913\n",
      "Name: tammie coe, dtype: object\n"
     ]
    },
    {
     "data": {
      "text/plain": [
       "[u'hong kong',\n",
       " u'pei wei',\n",
       " u'hush puppy',\n",
       " u'panna cotta',\n",
       " u'patatas bravas',\n",
       " u'huevos rancheros',\n",
       " u'amuse bouche',\n",
       " u'ami gabi',\n",
       " u'pf chang',\n",
       " u'bok choy',\n",
       " u'dac biet',\n",
       " u'tres lech',\n",
       " u'kung pao',\n",
       " u'lotus siam',\n",
       " u'monte carlo',\n",
       " u'thit nuong',\n",
       " u'osso bucco',\n",
       " u'loco moco',\n",
       " u'moscow mule',\n",
       " u'pet peeve',\n",
       " u'conveyor belt',\n",
       " u'croque madame',\n",
       " u'rula bula',\n",
       " u'pina colada',\n",
       " u'wolfgang puck',\n",
       " u'mon ami',\n",
       " u'lactose intolerant',\n",
       " u'prix fixe',\n",
       " u'santa fe',\n",
       " u'joel robuchon',\n",
       " u'tilted kilt',\n",
       " u'pinot noir',\n",
       " u'hustle bustle',\n",
       " u'cabo wabo',\n",
       " u'har gow',\n",
       " u'scantily clad',\n",
       " u'hubert keller',\n",
       " u'arnold palmer',\n",
       " u'agua frescas',\n",
       " u'beaten path',\n",
       " u'haricot verts',\n",
       " u'bo hue',\n",
       " u'cochinita pibil',\n",
       " u'harry potter',\n",
       " u'cave creek',\n",
       " u'butternut squash',\n",
       " u'kee mao',\n",
       " u'tikka masala',\n",
       " u'molecular gastronomy',\n",
       " u'valle luna',\n",
       " u'julian serrano',\n",
       " u'stainless steel',\n",
       " u'gordon ramsay',\n",
       " u'banh mi',\n",
       " u'krispy kreme',\n",
       " u'planet hollywood',\n",
       " u'malai kofta',\n",
       " u'sauvignon blanc',\n",
       " u'monte cristo',\n",
       " u'kim chee',\n",
       " u'fra diavolo',\n",
       " u'spam musubi',\n",
       " u'surf turf',\n",
       " u'los angeles',\n",
       " u'saving grace',\n",
       " u'caffe boa',\n",
       " u'raising cane',\n",
       " u'kilt lifter',\n",
       " u'puerto rican',\n",
       " u'cous cous',\n",
       " u'flip flop',\n",
       " u'dimly lit',\n",
       " u'coca cola',\n",
       " u'lau lau',\n",
       " u'language barrier',\n",
       " u'porta alba',\n",
       " u'halo halo',\n",
       " u'cole slaw',\n",
       " u'bloody mary',\n",
       " u'rand h.',\n",
       " u'tater tot',\n",
       " u'identity crisis',\n",
       " u'dietary restriction',\n",
       " u'osso buco',\n",
       " u'shiner bock',\n",
       " u'baskin robbins',\n",
       " u'bla bla',\n",
       " u'tar tar',\n",
       " u'mario batali',\n",
       " u'charlie palmer',\n",
       " u'ghillie dhu',\n",
       " u'kool aid',\n",
       " u'lomo saltado',\n",
       " u'grey goose',\n",
       " u'jos\\xe9 andr\\xe9s',\n",
       " u'nom nom',\n",
       " u'panda express',\n",
       " u'michael mina',\n",
       " u'gulab jamun',\n",
       " u'tammie coe']"
      ]
     },
     "execution_count": 97,
     "metadata": {},
     "output_type": "execute_result"
    }
   ],
   "source": [
    "x = dfq4.set_index('bi keys')\n",
    "top100 = list(dfq4['bi keys'][:100])\n",
    "#print type(top100)\n",
    "print x.xs(top100[0])\n",
    "print x.xs('huevos rancheros')\n",
    "print x.xs(top100[-1])\n",
    "top100"
   ]
  },
  {
   "cell_type": "markdown",
   "metadata": {},
   "source": [
    "It works! (mostly)\n",
    "\n",
    "I definitely see key word pairs (mostly for various ethnic foods, which is not surprising) including the alluring \"spam musubi\" which apparently is some horrible spam based 7/11 food that Hawaiians love. Who knew?"
   ]
  },
  {
   "cell_type": "code",
   "execution_count": null,
   "metadata": {
    "collapsed": true
   },
   "outputs": [],
   "source": []
  }
 ],
 "metadata": {
  "kernelspec": {
   "display_name": "Python 2",
   "language": "python",
   "name": "python2"
  },
  "language_info": {
   "codemirror_mode": {
    "name": "ipython",
    "version": 2
   },
   "file_extension": ".py",
   "mimetype": "text/x-python",
   "name": "python",
   "nbconvert_exporter": "python",
   "pygments_lexer": "ipython2",
   "version": "2.7.10"
  }
 },
 "nbformat": 4,
 "nbformat_minor": 0
}
