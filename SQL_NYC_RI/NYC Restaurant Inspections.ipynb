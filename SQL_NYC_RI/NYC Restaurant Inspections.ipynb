{
 "cells": [
  {
   "cell_type": "markdown",
   "metadata": {},
   "source": [
    "## Introduction\n",
    "The New York City Department of Health (DOH) inspects about 24,000 restaurants a year to monitor compliance with city and state regulations. They require restaurants to post their letter grades showing inspection results. Grades are assigned based on the following criteria:\n",
    "* A: 0-13 points\n",
    "* B: 14-27 points\n",
    "* C: 28+ points\n",
    "\n",
    "DOH has made this data publicly available. I will explore this data to see what insights I can uncover. This can be done in python by using pandas, or SQL by using joins and aggregate functions. Below it is performed in python using pandas.\n"
   ]
  },
  {
   "cell_type": "code",
   "execution_count": 1,
   "metadata": {
    "collapsed": false
   },
   "outputs": [
    {
     "data": {
      "text/html": [
       "<div>\n",
       "<table border=\"1\" class=\"dataframe\">\n",
       "  <thead>\n",
       "    <tr style=\"text-align: right;\">\n",
       "      <th></th>\n",
       "      <th>CAMIS</th>\n",
       "      <th>DBA</th>\n",
       "      <th>BORO</th>\n",
       "      <th>BUILDING</th>\n",
       "      <th>STREET</th>\n",
       "      <th>ZIPCODE</th>\n",
       "      <th>PHONE</th>\n",
       "      <th>CUISINECODE</th>\n",
       "      <th>INSPDATE</th>\n",
       "      <th>ACTION</th>\n",
       "      <th>VIOLCODE</th>\n",
       "      <th>SCORE</th>\n",
       "      <th>CURRENTGRADE</th>\n",
       "      <th>GRADEDATE</th>\n",
       "      <th>RECORDDATE</th>\n",
       "    </tr>\n",
       "  </thead>\n",
       "  <tbody>\n",
       "    <tr>\n",
       "      <th>0</th>\n",
       "      <td>30075445</td>\n",
       "      <td>MORRIS PARK BAKE SHOP</td>\n",
       "      <td>2</td>\n",
       "      <td>1007</td>\n",
       "      <td>MORRIS PARK AVE                               ...</td>\n",
       "      <td>10462</td>\n",
       "      <td>7188924968</td>\n",
       "      <td>8</td>\n",
       "      <td>2014-03-03 00:00:00</td>\n",
       "      <td>D</td>\n",
       "      <td>10F</td>\n",
       "      <td>2</td>\n",
       "      <td>A</td>\n",
       "      <td>2014-03-03 00:00:00</td>\n",
       "      <td>2014-09-04 06:01:28.403000000</td>\n",
       "    </tr>\n",
       "    <tr>\n",
       "      <th>1</th>\n",
       "      <td>30112340</td>\n",
       "      <td>WENDY'S</td>\n",
       "      <td>3</td>\n",
       "      <td>469</td>\n",
       "      <td>FLATBUSH AVENUE</td>\n",
       "      <td>11225</td>\n",
       "      <td>7182875005</td>\n",
       "      <td>39</td>\n",
       "      <td>2014-07-01 00:00:00</td>\n",
       "      <td>F</td>\n",
       "      <td>06A</td>\n",
       "      <td>23</td>\n",
       "      <td>B</td>\n",
       "      <td>2014-07-01 00:00:00</td>\n",
       "      <td>2014-09-04 06:01:28.403000000</td>\n",
       "    </tr>\n",
       "    <tr>\n",
       "      <th>2</th>\n",
       "      <td>30191841</td>\n",
       "      <td>DJ REYNOLDS PUB AND RESTAURANT</td>\n",
       "      <td>1</td>\n",
       "      <td>351</td>\n",
       "      <td>WEST 57 STREET</td>\n",
       "      <td>10019</td>\n",
       "      <td>2122452912</td>\n",
       "      <td>3</td>\n",
       "      <td>2013-07-22 00:00:00</td>\n",
       "      <td>D</td>\n",
       "      <td>10B</td>\n",
       "      <td>11</td>\n",
       "      <td>A</td>\n",
       "      <td>2013-07-22 00:00:00</td>\n",
       "      <td>2014-09-04 06:01:28.403000000</td>\n",
       "    </tr>\n",
       "    <tr>\n",
       "      <th>3</th>\n",
       "      <td>40356483</td>\n",
       "      <td>WILKEN'S FINE FOOD</td>\n",
       "      <td>3</td>\n",
       "      <td>7114</td>\n",
       "      <td>AVENUE U</td>\n",
       "      <td>11234</td>\n",
       "      <td>7184443838</td>\n",
       "      <td>27</td>\n",
       "      <td>2014-05-29 00:00:00</td>\n",
       "      <td>D</td>\n",
       "      <td>08C</td>\n",
       "      <td>10</td>\n",
       "      <td>A</td>\n",
       "      <td>2014-05-29 00:00:00</td>\n",
       "      <td>2014-09-04 06:01:28.403000000</td>\n",
       "    </tr>\n",
       "    <tr>\n",
       "      <th>4</th>\n",
       "      <td>30191841</td>\n",
       "      <td>DJ REYNOLDS PUB AND RESTAURANT</td>\n",
       "      <td>1</td>\n",
       "      <td>351</td>\n",
       "      <td>WEST 57 STREET</td>\n",
       "      <td>10019</td>\n",
       "      <td>2122452912</td>\n",
       "      <td>3</td>\n",
       "      <td>2013-07-22 00:00:00</td>\n",
       "      <td>D</td>\n",
       "      <td>02G</td>\n",
       "      <td>11</td>\n",
       "      <td>A</td>\n",
       "      <td>2013-07-22 00:00:00</td>\n",
       "      <td>2014-09-04 06:01:28.403000000</td>\n",
       "    </tr>\n",
       "  </tbody>\n",
       "</table>\n",
       "</div>"
      ],
      "text/plain": [
       "      CAMIS                             DBA  BORO    BUILDING  \\\n",
       "0  30075445           MORRIS PARK BAKE SHOP     2  1007         \n",
       "1  30112340                         WENDY'S     3         469   \n",
       "2  30191841  DJ REYNOLDS PUB AND RESTAURANT     1         351   \n",
       "3  40356483              WILKEN'S FINE FOOD     3  7114         \n",
       "4  30191841  DJ REYNOLDS PUB AND RESTAURANT     1         351   \n",
       "\n",
       "                                              STREET  ZIPCODE       PHONE  \\\n",
       "0  MORRIS PARK AVE                               ...    10462  7188924968   \n",
       "1                                    FLATBUSH AVENUE    11225  7182875005   \n",
       "2                                     WEST 57 STREET    10019  2122452912   \n",
       "3                   AVENUE U                            11234  7184443838   \n",
       "4                                     WEST 57 STREET    10019  2122452912   \n",
       "\n",
       "   CUISINECODE             INSPDATE ACTION VIOLCODE  SCORE CURRENTGRADE  \\\n",
       "0            8  2014-03-03 00:00:00      D      10F      2            A   \n",
       "1           39  2014-07-01 00:00:00      F      06A     23            B   \n",
       "2            3  2013-07-22 00:00:00      D      10B     11            A   \n",
       "3           27  2014-05-29 00:00:00      D      08C     10            A   \n",
       "4            3  2013-07-22 00:00:00      D      02G     11            A   \n",
       "\n",
       "             GRADEDATE                     RECORDDATE  \n",
       "0  2014-03-03 00:00:00  2014-09-04 06:01:28.403000000  \n",
       "1  2014-07-01 00:00:00  2014-09-04 06:01:28.403000000  \n",
       "2  2013-07-22 00:00:00  2014-09-04 06:01:28.403000000  \n",
       "3  2014-05-29 00:00:00  2014-09-04 06:01:28.403000000  \n",
       "4  2013-07-22 00:00:00  2014-09-04 06:01:28.403000000  "
      ]
     },
     "execution_count": 1,
     "metadata": {},
     "output_type": "execute_result"
    }
   ],
   "source": [
    "import csv\n",
    "import datetime as dt\n",
    "import pandas as pd\n",
    "import numpy as np\n",
    "import os\n",
    "import matplotlib.pyplot as plt\n",
    "%matplotlib inline\n",
    "\n",
    "log_file = \"nyc_inspection_data%sWebExtract.txt\"%os.sep\n",
    "data = pd.io.parsers.read_csv(log_file,sep=',',quotechar='\"',header=0,low_memory=False)\n",
    "data.head()"
   ]
  },
  {
   "cell_type": "code",
   "execution_count": 2,
   "metadata": {
    "collapsed": false
   },
   "outputs": [
    {
     "name": "stdout",
     "output_type": "stream",
     "text": [
      "<class 'pandas.core.frame.DataFrame'>\n",
      "Int64Index: 531935 entries, 0 to 531934\n",
      "Data columns (total 15 columns):\n",
      "CAMIS           531935 non-null int64\n",
      "DBA             531935 non-null object\n",
      "BORO            531935 non-null int64\n",
      "BUILDING        531286 non-null object\n",
      "STREET          531934 non-null object\n",
      "ZIPCODE         531933 non-null float64\n",
      "PHONE           531874 non-null object\n",
      "CUISINECODE     531935 non-null int64\n",
      "INSPDATE        531935 non-null object\n",
      "ACTION          531066 non-null object\n",
      "VIOLCODE        520720 non-null object\n",
      "SCORE           498411 non-null float64\n",
      "CURRENTGRADE    234325 non-null object\n",
      "GRADEDATE       232801 non-null object\n",
      "RECORDDATE      531935 non-null object\n",
      "dtypes: float64(2), int64(3), object(10)\n",
      "memory usage: 64.9+ MB\n"
     ]
    }
   ],
   "source": [
    "data.info()"
   ]
  },
  {
   "cell_type": "markdown",
   "metadata": {},
   "source": [
    "### Best zipcodes to eat in (from a food-safety perspective)\n",
    "Let's examine all zipcodes with at least 100 inspections. I will return a tuple of (zipcode,mean score,standard err of score). I will list the top 10 zipcodes (Lower score is better)"
   ]
  },
  {
   "cell_type": "code",
   "execution_count": 3,
   "metadata": {
    "collapsed": false
   },
   "outputs": [
    {
     "data": {
      "text/plain": [
       "[('10112', 15.268421052631579, 0.69216650772280208, 190),\n",
       " ('10121', 16.16, 0.98678467762729272, 100),\n",
       " ('10020', 17.607703281027103, 0.47052066565700235, 701),\n",
       " ('10282', 18.094972067039105, 1.3742492776818953, 179),\n",
       " ('11433', 18.104201680672269, 0.39341927874909449, 595),\n",
       " ('10307', 18.150990099009903, 0.58159252297705633, 404),\n",
       " ('11234', 18.945891783567134, 0.25599700582746587, 2495),\n",
       " ('10306', 19.015512465373963, 0.28278061489418643, 1805),\n",
       " ('11224', 19.079617834394906, 0.46489668359592956, 942),\n",
       " ('10044', 19.16030534351145, 1.10272013738915, 131)]"
      ]
     },
     "execution_count": 3,
     "metadata": {},
     "output_type": "execute_result"
    }
   ],
   "source": [
    "topzips = data.ZIPCODE.value_counts()\n",
    "sigtopzips = topzips[topzips>100]\n",
    "\n",
    "#return [(\"11201\", 21.9060928719313812, 0.179441607823702, 6762)] * 183\n",
    "otuple=[]\n",
    "for z in sigtopzips.index:\n",
    "    zdat = data[data[\"ZIPCODE\"]==z][\"SCORE\"]\n",
    "    #some -1s and 0s exist in the data, remove them.\n",
    "    zdat = zdat[zdat>=0]\n",
    "    zmn = np.nanmean(zdat)\n",
    "    n = len(zdat)-sum(np.isnan(zdat))  \n",
    "    zse = np.nanstd(zdat) / np.sqrt(n)\n",
    "    otuple.append(('%i' % z,zmn,zse,n))\n",
    "sorted(otuple,key=lambda b: b[1])[:10]"
   ]
  },
  {
   "cell_type": "markdown",
   "metadata": {},
   "source": [
    "## Map this data\n",
    "A list is nice, but not all that enlightening. So I will map this data. I will write this data out to a .csv file and import into [CartoDB](http://cartodb.com/) to produce a a map of average scores by zipcode."
   ]
  },
  {
   "cell_type": "code",
   "execution_count": 4,
   "metadata": {
    "collapsed": true
   },
   "outputs": [],
   "source": [
    "with open('nyc_inspect_avg_zipcode.csv', \"w\") as the_file:\n",
    "    csv.register_dialect(\"custom\", delimiter=\",\")\n",
    "    writer = csv.writer(the_file, dialect=\"custom\")\n",
    "    writer.writerows(otuple)    \n"
   ]
  },
  {
   "cell_type": "markdown",
   "metadata": {},
   "source": [
    "Let us have a look."
   ]
  },
  {
   "cell_type": "code",
   "execution_count": 5,
   "metadata": {
    "collapsed": false,
    "scrolled": true
   },
   "outputs": [
    {
     "data": {
      "text/html": [
       "\n",
       "        <iframe\n",
       "            width=\"700\"\n",
       "            height=\"700\"\n",
       "            src=\"https://btquinn.cartodb.com/viz/3bcc03c6-1474-11e5-b379-0e4fddd5de28/embed_map\"\n",
       "            frameborder=\"0\"\n",
       "            allowfullscreen\n",
       "        ></iframe>\n",
       "        "
      ],
      "text/plain": [
       "<IPython.lib.display.IFrame at 0x7ff804f23f90>"
      ]
     },
     "execution_count": 5,
     "metadata": {},
     "output_type": "execute_result"
    }
   ],
   "source": [
    "from IPython.display import IFrame\n",
    "IFrame('https://btquinn.cartodb.com/viz/3bcc03c6-1474-11e5-b379-0e4fddd5de28/embed_map',width=700,height=700)"
   ]
  },
  {
   "cell_type": "markdown",
   "metadata": {},
   "source": [
    "Worst zipcode in each borough\n",
    "* Manhattan: 10026(Central Park North/Harlem), 24.32\n",
    "* Queens: 11354 (Flushing), 26.46\n",
    "* Bronx: 10473 (Union Port), 25.97\n",
    "* Brooklyn: 11220 (Sunset Park), 25.86\n",
    "* Staten Island: 10303 (Arlington), 23.3\n",
    "\n",
    "### Score by borough\n",
    "I then looked at mean grade by borough. Here, I used the RI_Webextract_BigApps_Latest.xls file to see how to code the boroughs by name. There are five boroughs, but there is a sixth blank"
   ]
  },
  {
   "cell_type": "code",
   "execution_count": 6,
   "metadata": {
    "collapsed": false
   },
   "outputs": [
    {
     "data": {
      "text/plain": [
       "[('STATEN ISLAND', 20.965332669446692, 0.1069902543813078, 16067),\n",
       " ('THE BRONX', 21.57383198069752, 0.07116924387758955, 45590),\n",
       " ('BROOKLYN', 22.181739480744341, 0.044390474694205227, 116667),\n",
       " ('MANHATTAN', 22.259562493258944, 0.033273874893593847, 203974),\n",
       " ('QUEENS', 22.687262825776894, 0.045650268113624298, 115685)]"
      ]
     },
     "execution_count": 6,
     "metadata": {},
     "output_type": "execute_result"
    }
   ],
   "source": [
    "otuple=[]\n",
    "boro_names=[\"\",\"MANHATTAN\",\"THE BRONX\",\"BROOKLYN\",\"QUEENS\",\"STATEN ISLAND\"]\n",
    "for b in np.arange(1,6):\n",
    "    bdat = data[data[\"BORO\"]==b][\"SCORE\"]\n",
    "    #some -1s and 0s exist in the data, remove them.\n",
    "    bdat = bdat[bdat>=0]\n",
    "    bmn = np.nanmean(bdat)\n",
    "    n = len(bdat)-sum(np.isnan(bdat))  \n",
    "    bse = np.nanstd(bdat) / np.sqrt(n)\n",
    "    otuple.append((boro_names[b],bmn,bse,n))\n",
    "sorted(otuple,key=lambda b: b[1])  \n"
   ]
  },
  {
   "cell_type": "markdown",
   "metadata": {},
   "source": [
    "There you have it. If you want a clean meal, go to Staten Island.\n",
    "\n",
    "### Cuisine type\n",
    "What are the least sanitary and most sanitary cuisine types? Place your bets now. I will calculate (cuisine, mean grade, stderr, number of inspections) for each cuisine type with at least 100 inspections.\n",
    "\n",
    "Below you will see how I merge the cuisine data with the existing ratings data in pandas. This could be done in SQL using a JOIN and a few aggregate functions (AVG,STDDEV) and grouping by cuisine type."
   ]
  },
  {
   "cell_type": "code",
   "execution_count": 7,
   "metadata": {
    "collapsed": false
   },
   "outputs": [
    {
     "data": {
      "text/plain": [
       "[('Hotdogs/Pretzels', 14.51923076923077, 0.99718007866706126, 156),\n",
       " ('Soups & Sandwiches', 14.961199294532628, 0.40904617986974662, 567),\n",
       " ('Ethiopian', 15.346153846153847, 0.42445782225432982, 286),\n",
       " ('Donuts', 15.536336731338375, 0.14351584576610082, 6082),\n",
       " ('Hotdogs', 15.5413870246085, 0.43889506978639414, 447),\n",
       " ('Ice Cream, Gelato, Yogurt, Ices',\n",
       "  15.943380040034315,\n",
       "  0.19519253686850047,\n",
       "  3497),\n",
       " ('Sandwiches', 16.438442211055275, 0.14546661489127341, 6368),\n",
       " ('Juice, Smoothies, Fruit Salads',\n",
       "  16.8989898989899,\n",
       "  0.23828085890752101,\n",
       "  2574),\n",
       " ('Caf\\xe9/Coffee/Tea', 17.125518307681496, 0.10345270030595691, 14229),\n",
       " ('Sandwiches/Salads/Mixed Buffet',\n",
       "  17.19119623655914,\n",
       "  0.22068714968259523,\n",
       "  2976),\n",
       " ('Cajun', 17.214285714285715, 0.58685422227236173, 168),\n",
       " ('Armenian', 17.233449477351915, 0.40830051859599903, 574),\n",
       " ('Other', 17.392756083757781, 0.36491771672206941, 1767),\n",
       " ('Hamburgers', 17.512352309344791, 0.13239562091401871, 7448),\n",
       " ('Bottled beverages, including water, sodas, juices, etc.',\n",
       "  17.851214574898787,\n",
       "  0.40407202056731745,\n",
       "  988),\n",
       " ('Egyptian', 18.541935483870969, 0.62201173102680329, 310),\n",
       " ('English', 18.644654088050313, 0.58181068895409249, 318),\n",
       " ('Southwestern', 19.211340206185568, 0.68725733505256048, 194),\n",
       " ('Chicken', 19.317600227466592, 0.15340038314873172, 7034),\n",
       " ('Scandinavian', 20.083333333333332, 0.81935616285284529, 144),\n",
       " ('Salads', 20.160220994475139, 0.59555591032891464, 543),\n",
       " ('Middle Eastern', 20.265353805073431, 0.27354721721136677, 2996),\n",
       " ('German', 20.570351758793969, 0.3742771209541414, 796),\n",
       " ('Greek', 20.713699753896638, 0.27516481482050609, 2438),\n",
       " ('Czech', 20.739495798319329, 1.1414636948025789, 119),\n",
       " ('Irish', 20.830139578897562, 0.20316604756300521, 4227),\n",
       " ('Barbecue', 20.859354838709677, 0.45418561150950076, 775),\n",
       " ('Vegetarian', 20.871646501841138, 0.34361605276688223, 1901),\n",
       " ('Tex-Mex', 20.915805022156572, 0.28883038138301786, 2708),\n",
       " ('Pancakes/Waffles', 21.005050505050505, 0.68718422406883573, 396),\n",
       " ('Moroccan', 21.041825095057035, 0.88729753147760593, 263),\n",
       " ('Bagels/Pretzels', 21.06962921030286, 0.23340173048850213, 3533),\n",
       " ('Polish', 21.252186588921283, 0.45052310249604371, 686),\n",
       " ('American ', 21.354490696464826, 0.041712984474600458, 119202),\n",
       " ('Pizza', 21.370334227860454, 0.091764315161612403, 24594),\n",
       " ('Mediterranean', 21.586496815286623, 0.24780287438102994, 3925),\n",
       " ('Steak', 21.696084161309177, 0.38925305943885774, 1711),\n",
       " ('Filipino', 21.809963099630995, 0.53885097976757423, 542),\n",
       " ('Continental', 21.908607863974495, 0.45281232504596652, 941),\n",
       " ('Indonesian', 21.966666666666665, 0.81199575899312859, 210),\n",
       " ('French', 21.998288159771754, 0.17708711478966441, 7010),\n",
       " ('Afghan', 22.079710144927535, 0.83160064335314032, 276),\n",
       " ('Tapas', 22.09375, 0.66530969093711045, 544),\n",
       " ('Italian', 22.179524063951337, 0.093158421861538679, 24331),\n",
       " ('Pizza/Italian', 22.192953184807145, 0.13974404237953306, 10189),\n",
       " ('Australian', 22.257510729613735, 1.1221723320446464, 233),\n",
       " ('Not Listed/Not Applicable', 22.262711864406779, 1.8081825875073232, 118),\n",
       " ('Turkish', 22.670074982958418, 0.40033098104547044, 1467),\n",
       " ('Jewish/Kosher', 22.67563486616335, 0.17341348938932769, 7285),\n",
       " ('Brazilian', 22.822503961965136, 0.50981392530072633, 631),\n",
       " ('Seafood', 22.887154471544715, 0.29715745754537254, 3075),\n",
       " ('Eastern European', 23.06451612903226, 0.399183525564137, 1395),\n",
       " ('Bakery', 23.06542899503642, 0.12982148526487622, 15513),\n",
       " ('Caribbean', 23.092596184933722, 0.12649064036456359, 15465),\n",
       " ('Mexican', 23.266426282051281, 0.11262286094247403, 17472),\n",
       " ('Spanish', 23.448595887671015, 0.13940884503530998, 12499),\n",
       " ('Soul Food', 23.487309644670052, 0.45569406508755855, 985),\n",
       " ('Russian', 23.52547770700637, 0.39168945657547838, 1884),\n",
       " ('Thai', 23.557530120481928, 0.17694392559397579, 6640),\n",
       " ('Japanese', 23.808591318127796, 0.11447399457380789, 17669),\n",
       " ('Vietnamese/Cambodian/Malaysia',\n",
       "  24.449999999999999,\n",
       "  0.37214449571530756,\n",
       "  1780),\n",
       " ('Latin (Cuban, Dominican, Puerto Rican, South & Central American)',\n",
       "  24.499556272690601,\n",
       "  0.10277539697628879,\n",
       "  24790),\n",
       " ('Delicatessen', 24.519510080208107, 0.16234612948461791, 9226),\n",
       " ('Korean', 24.533453615997594, 0.19528769551504244, 6651),\n",
       " ('Peruvian', 24.865490628445425, 0.39713609265586386, 1814),\n",
       " ('Chinese', 24.917614307406783, 0.068165173572633186, 59270),\n",
       " ('Indian', 25.093488725614392, 0.20239064418189257, 7894),\n",
       " ('Pakistani', 25.592121982210926, 0.64110718718171644, 787),\n",
       " ('Chinese/Japanese', 26.032232704402517, 0.45794391478217372, 1272),\n",
       " ('Asian', 26.057228505245945, 0.21556130445610952, 7339),\n",
       " ('Bangladeshi', 26.586649550706035, 0.65376978063897029, 779),\n",
       " ('African', 26.658836689038033, 0.45473819078565386, 1788),\n",
       " ('Portuguese', 26.685714285714287, 1.1056388731336542, 245),\n",
       " ('Chinese/Cuban', 27.424528301886792, 0.82084818685963623, 424),\n",
       " ('Creole', 30.145454545454545, 0.82741151622397979, 660)]"
      ]
     },
     "execution_count": 7,
     "metadata": {},
     "output_type": "execute_result"
    }
   ],
   "source": [
    "# [(\"French\", 21.9985734664764622, 0.177094690841052, 7010)] * 75\n",
    "cuis_file = \"nyc_inspection_data%sCuisine.txt\"%os.sep\n",
    "cuis_data = pd.io.parsers.read_csv(cuis_file,sep=',',quotechar='\"',header=0,low_memory=False)\n",
    "merg_data = pd.merge(data,cuis_data,on='CUISINECODE',sort=False)\n",
    "\n",
    "cd_counts = merg_data.CODEDESC.value_counts()\n",
    "top_cd = cd_counts[cd_counts>=100]\n",
    "otuple=[]\n",
    "for c in top_cd.index:\n",
    "    cdat = merg_data[merg_data[\"CODEDESC\"]==c][\"SCORE\"]\n",
    "    cmn = np.nanmean(cdat)\n",
    "    n = len(cdat)-sum(np.isnan(cdat))  \n",
    "    cse = np.nanstd(cdat) / np.sqrt(n)\n",
    "    otuple.append((c,cmn,cse,n))\n",
    "sorted(otuple,key=lambda b: b[1])  \n"
   ]
  },
  {
   "cell_type": "markdown",
   "metadata": {},
   "source": [
    "Surprised? Hot Dog vendors must run a tidy ship. Creole restaurants, on the other hand, have the hightest average. Shut those places down already.\n",
    "\n",
    "### Which cuisines tend to have a disproportionate number of which violations?\n",
    "This is a tricky question, as we can't simply count the violations. If we did, more popular cuisine types will tend to have more violations because they represent more restaurants. Additionally, some violation types are more common than others.\n",
    "\n",
    "Therefore, to answer this question, we need to calculate the conditional probability of a specific violation type given a specific cuisine type and normalize it by the probability of the violation type. \n",
    "\n",
    "$$P\\left( violation\\,type  \\,\\middle|\\,  cuisine\\,type \\right) \\over P\\left( violation\\,type \\right)$$\n",
    "\n",
    "This ratio won't mean much when the number of violations is small, so I chose the cutoff of 100 violations of a violation type."
   ]
  },
  {
   "cell_type": "code",
   "execution_count": 8,
   "metadata": {
    "collapsed": false
   },
   "outputs": [
    {
     "name": "stdout",
     "output_type": "stream",
     "text": [
      "             STARTDATE              ENDDATE CRITICALFLAG VIOLATIONCODE  \\\n",
      "0  1901-01-01 00:00:00  2003-03-23 00:00:00            Y           01A   \n",
      "1  2003-03-24 00:00:00  2005-02-17 00:00:00            Y           01A   \n",
      "\n",
      "                                       VIOLATIONDESC     STRTDT      ENDDT  \n",
      "0  Current valid permit, registration or other au... 1901-01-01 2003-03-23  \n",
      "1  Current valid permit, registration or other au... 2003-03-24 2005-02-17  \n",
      "<class 'pandas.core.frame.DataFrame'>\n",
      "Int64Index: 719 entries, 0 to 718\n",
      "Data columns (total 7 columns):\n",
      "STARTDATE        719 non-null object\n",
      "ENDDATE          719 non-null object\n",
      "CRITICALFLAG     719 non-null object\n",
      "VIOLATIONCODE    719 non-null object\n",
      "VIOLATIONDESC    719 non-null object\n",
      "STRTDT           719 non-null datetime64[ns]\n",
      "ENDDT            719 non-null datetime64[ns]\n",
      "dtypes: datetime64[ns](2), object(5)\n",
      "memory usage: 44.9+ KB\n",
      "<class 'pandas.core.frame.DataFrame'>\n",
      "Int64Index: 531935 entries, 0 to 531934\n",
      "Data columns (total 17 columns):\n",
      "CAMIS           531935 non-null int64\n",
      "DBA             531935 non-null object\n",
      "BORO            531935 non-null int64\n",
      "BUILDING        531286 non-null object\n",
      "STREET          531934 non-null object\n",
      "ZIPCODE         531933 non-null float64\n",
      "PHONE           531874 non-null object\n",
      "CUISINECODE     531935 non-null int64\n",
      "INSPDATE        531935 non-null object\n",
      "ACTION          531066 non-null object\n",
      "VIOLCODE        520720 non-null object\n",
      "SCORE           498411 non-null float64\n",
      "CURRENTGRADE    234325 non-null object\n",
      "GRADEDATE       232801 non-null object\n",
      "RECORDDATE      531935 non-null object\n",
      "CODEDESC        531935 non-null object\n",
      "INSPDT          531935 non-null datetime64[ns]\n",
      "dtypes: datetime64[ns](1), float64(2), int64(3), object(11)\n",
      "memory usage: 73.1+ MB\n"
     ]
    }
   ],
   "source": [
    "viol_file = \"nyc_inspection_data%sViolation.txt\"%os.sep\n",
    "viol_data = pd.io.parsers.read_csv(viol_file,sep=',',quotechar='\"',header=0,low_memory=False)\n",
    "\n",
    "# Remove time from dates and convert to datetime format\n",
    "merg_data['INSPDT'] = merg_data.INSPDATE.apply(lambda x: dt.datetime.strptime(x.split()[0],'%Y-%m-%d'))\n",
    "viol_data['STRTDT'] = viol_data.STARTDATE.apply(lambda x: dt.datetime.strptime(x.split()[0],'%Y-%m-%d'))\n",
    "viol_data['ENDDT'] = viol_data.ENDDATE.apply(lambda x: dt.datetime.strptime(x.split()[0],'%Y-%m-%d'))\n",
    "\n",
    "viol_data.head(2)\n",
    "viol_data.info()\n",
    "merg_data.info()"
   ]
  },
  {
   "cell_type": "code",
   "execution_count": 9,
   "metadata": {
    "collapsed": false
   },
   "outputs": [
    {
     "data": {
      "text/html": [
       "<div>\n",
       "<table border=\"1\" class=\"dataframe\">\n",
       "  <thead>\n",
       "    <tr style=\"text-align: right;\">\n",
       "      <th></th>\n",
       "      <th>STRTDT</th>\n",
       "      <th>ENDDT</th>\n",
       "      <th>TIMEWINDOW</th>\n",
       "    </tr>\n",
       "  </thead>\n",
       "  <tbody>\n",
       "    <tr>\n",
       "      <th>0</th>\n",
       "      <td>1901-01-01</td>\n",
       "      <td>2003-03-23</td>\n",
       "      <td>A</td>\n",
       "    </tr>\n",
       "    <tr>\n",
       "      <th>1</th>\n",
       "      <td>2003-03-24</td>\n",
       "      <td>2005-02-17</td>\n",
       "      <td>B</td>\n",
       "    </tr>\n",
       "    <tr>\n",
       "      <th>2</th>\n",
       "      <td>2005-02-18</td>\n",
       "      <td>2007-06-30</td>\n",
       "      <td>C</td>\n",
       "    </tr>\n",
       "    <tr>\n",
       "      <th>3</th>\n",
       "      <td>2007-07-01</td>\n",
       "      <td>2008-06-30</td>\n",
       "      <td>D</td>\n",
       "    </tr>\n",
       "    <tr>\n",
       "      <th>4</th>\n",
       "      <td>2008-07-01</td>\n",
       "      <td>2009-08-01</td>\n",
       "      <td>E</td>\n",
       "    </tr>\n",
       "    <tr>\n",
       "      <th>5</th>\n",
       "      <td>2009-08-02</td>\n",
       "      <td>2010-07-25</td>\n",
       "      <td>F</td>\n",
       "    </tr>\n",
       "    <tr>\n",
       "      <th>6</th>\n",
       "      <td>2010-07-26</td>\n",
       "      <td>2099-12-31</td>\n",
       "      <td>G</td>\n",
       "    </tr>\n",
       "  </tbody>\n",
       "</table>\n",
       "</div>"
      ],
      "text/plain": [
       "      STRTDT      ENDDT TIMEWINDOW\n",
       "0 1901-01-01 2003-03-23          A\n",
       "1 2003-03-24 2005-02-17          B\n",
       "2 2005-02-18 2007-06-30          C\n",
       "3 2007-07-01 2008-06-30          D\n",
       "4 2008-07-01 2009-08-01          E\n",
       "5 2009-08-02 2010-07-25          F\n",
       "6 2010-07-26 2099-12-31          G"
      ]
     },
     "execution_count": 9,
     "metadata": {},
     "output_type": "execute_result"
    }
   ],
   "source": [
    "datefields = ['STRTDT', 'ENDDT']\n",
    "#Get the unique pairs of time windows\n",
    "violdate_data = viol_data[datefields].drop_duplicates().reset_index(drop=True)\n",
    "violdate_data['TIMEWINDOW']='A B C D E F G'.split()\n",
    "violdate_data"
   ]
  },
  {
   "cell_type": "code",
   "execution_count": 10,
   "metadata": {
    "collapsed": false
   },
   "outputs": [
    {
     "data": {
      "text/html": [
       "<div>\n",
       "<table border=\"1\" class=\"dataframe\">\n",
       "  <thead>\n",
       "    <tr style=\"text-align: right;\">\n",
       "      <th></th>\n",
       "      <th>STARTDATE</th>\n",
       "      <th>ENDDATE</th>\n",
       "      <th>CRITICALFLAG</th>\n",
       "      <th>VIOLATIONCODE</th>\n",
       "      <th>VIOLATIONDESC</th>\n",
       "      <th>STRTDT</th>\n",
       "      <th>ENDDT</th>\n",
       "      <th>TIMEWINDOW</th>\n",
       "      <th>VC_TW</th>\n",
       "    </tr>\n",
       "  </thead>\n",
       "  <tbody>\n",
       "    <tr>\n",
       "      <th>0</th>\n",
       "      <td>1901-01-01 00:00:00</td>\n",
       "      <td>2003-03-23 00:00:00</td>\n",
       "      <td>Y</td>\n",
       "      <td>01A</td>\n",
       "      <td>Current valid permit, registration or other au...</td>\n",
       "      <td>1901-01-01</td>\n",
       "      <td>2003-03-23</td>\n",
       "      <td>A</td>\n",
       "      <td>01AA</td>\n",
       "    </tr>\n",
       "  </tbody>\n",
       "</table>\n",
       "</div>"
      ],
      "text/plain": [
       "             STARTDATE              ENDDATE CRITICALFLAG VIOLATIONCODE  \\\n",
       "0  1901-01-01 00:00:00  2003-03-23 00:00:00            Y           01A   \n",
       "\n",
       "                                       VIOLATIONDESC     STRTDT      ENDDT  \\\n",
       "0  Current valid permit, registration or other au... 1901-01-01 2003-03-23   \n",
       "\n",
       "  TIMEWINDOW VC_TW  \n",
       "0          A  01AA  "
      ]
     },
     "execution_count": 10,
     "metadata": {},
     "output_type": "execute_result"
    }
   ],
   "source": [
    "#merge the dataframe above with the whole violation data to fill in timewindow field\n",
    "viol_data = pd.merge(viol_data,violdate_data,on=datefields,sort=False)\n",
    "viol_data['VC_TW']=viol_data['VIOLATIONCODE']+viol_data['TIMEWINDOW']\n",
    "viol_data.head(1)"
   ]
  },
  {
   "cell_type": "code",
   "execution_count": 11,
   "metadata": {
    "collapsed": false
   },
   "outputs": [
    {
     "data": {
      "text/html": [
       "<div>\n",
       "<table border=\"1\" class=\"dataframe\">\n",
       "  <thead>\n",
       "    <tr style=\"text-align: right;\">\n",
       "      <th></th>\n",
       "      <th>CAMIS</th>\n",
       "      <th>DBA</th>\n",
       "      <th>BORO</th>\n",
       "      <th>BUILDING</th>\n",
       "      <th>STREET</th>\n",
       "      <th>ZIPCODE</th>\n",
       "      <th>PHONE</th>\n",
       "      <th>CUISINECODE</th>\n",
       "      <th>INSPDATE</th>\n",
       "      <th>ACTION</th>\n",
       "      <th>VIOLCODE</th>\n",
       "      <th>SCORE</th>\n",
       "      <th>CURRENTGRADE</th>\n",
       "      <th>GRADEDATE</th>\n",
       "      <th>RECORDDATE</th>\n",
       "      <th>CODEDESC</th>\n",
       "      <th>INSPDT</th>\n",
       "      <th>TIMEWINDOW</th>\n",
       "      <th>VC_TW</th>\n",
       "    </tr>\n",
       "  </thead>\n",
       "  <tbody>\n",
       "    <tr>\n",
       "      <th>0</th>\n",
       "      <td>30075445</td>\n",
       "      <td>MORRIS PARK BAKE SHOP</td>\n",
       "      <td>2</td>\n",
       "      <td>1007</td>\n",
       "      <td>MORRIS PARK AVE                               ...</td>\n",
       "      <td>10462</td>\n",
       "      <td>7188924968</td>\n",
       "      <td>8</td>\n",
       "      <td>2014-03-03 00:00:00</td>\n",
       "      <td>D</td>\n",
       "      <td>10F</td>\n",
       "      <td>2</td>\n",
       "      <td>A</td>\n",
       "      <td>2014-03-03 00:00:00</td>\n",
       "      <td>2014-09-04 06:01:28.403000000</td>\n",
       "      <td>Bakery</td>\n",
       "      <td>2014-03-03</td>\n",
       "      <td>G</td>\n",
       "      <td>10FG</td>\n",
       "    </tr>\n",
       "  </tbody>\n",
       "</table>\n",
       "</div>"
      ],
      "text/plain": [
       "      CAMIS                    DBA  BORO    BUILDING  \\\n",
       "0  30075445  MORRIS PARK BAKE SHOP     2  1007         \n",
       "\n",
       "                                              STREET  ZIPCODE       PHONE  \\\n",
       "0  MORRIS PARK AVE                               ...    10462  7188924968   \n",
       "\n",
       "   CUISINECODE             INSPDATE ACTION VIOLCODE  SCORE CURRENTGRADE  \\\n",
       "0            8  2014-03-03 00:00:00      D      10F      2            A   \n",
       "\n",
       "             GRADEDATE                     RECORDDATE CODEDESC     INSPDT  \\\n",
       "0  2014-03-03 00:00:00  2014-09-04 06:01:28.403000000   Bakery 2014-03-03   \n",
       "\n",
       "  TIMEWINDOW VC_TW  \n",
       "0          G  10FG  "
      ]
     },
     "execution_count": 11,
     "metadata": {},
     "output_type": "execute_result"
    }
   ],
   "source": [
    "#add timewindow field to merg_data. function maps date to timewindows \n",
    "def get_timewindow(date):\n",
    "    if date.date() >= dt.date(2010,7,26):\n",
    "        return 'G'\n",
    "    elif date.date() >= dt.date(2009,8,2) and date.date() <= dt.date(2010,7,25):\n",
    "        return 'F'\n",
    "    elif date.date() >= dt.date(2008,7,1) and date.date() <= dt.date(2009,8,1):\n",
    "        return 'E'\n",
    "    elif date.date() >= dt.date(2007,7,1) and date.date() <= dt.date(2008,6,30):\n",
    "        return 'D'\n",
    "    elif date.date() >= dt.date(2005,2,18) and date.date() <= dt.date(2007,6,30):\n",
    "        return 'C'\n",
    "    elif date.date() >= dt.date(2003,3,24) and date.date() <= dt.date(2005,2,17):\n",
    "        return 'B'\n",
    "    elif date.date() <= dt.date(2003,3,23):\n",
    "        return 'A'\n",
    "\n",
    "merg_data['TIMEWINDOW']=merg_data['INSPDT'].apply(get_timewindow)\n",
    "merg_data['VC_TW']=merg_data['VIOLCODE']+merg_data['TIMEWINDOW']\n",
    "merg_data.head(1)"
   ]
  },
  {
   "cell_type": "code",
   "execution_count": 12,
   "metadata": {
    "collapsed": false
   },
   "outputs": [
    {
     "data": {
      "text/html": [
       "<div>\n",
       "<table border=\"1\" class=\"dataframe\">\n",
       "  <thead>\n",
       "    <tr style=\"text-align: right;\">\n",
       "      <th></th>\n",
       "      <th>CAMIS</th>\n",
       "      <th>DBA</th>\n",
       "      <th>BORO</th>\n",
       "      <th>BUILDING</th>\n",
       "      <th>STREET</th>\n",
       "      <th>ZIPCODE</th>\n",
       "      <th>PHONE</th>\n",
       "      <th>CUISINECODE</th>\n",
       "      <th>INSPDATE</th>\n",
       "      <th>ACTION</th>\n",
       "      <th>VIOLCODE</th>\n",
       "      <th>SCORE</th>\n",
       "      <th>CURRENTGRADE</th>\n",
       "      <th>GRADEDATE</th>\n",
       "      <th>RECORDDATE</th>\n",
       "      <th>CODEDESC</th>\n",
       "      <th>INSPDT</th>\n",
       "      <th>TIMEWINDOW</th>\n",
       "      <th>VC_TW</th>\n",
       "      <th>VIOLATIONDESC</th>\n",
       "    </tr>\n",
       "  </thead>\n",
       "  <tbody>\n",
       "    <tr>\n",
       "      <th>0</th>\n",
       "      <td>30075445</td>\n",
       "      <td>MORRIS PARK BAKE SHOP</td>\n",
       "      <td>2</td>\n",
       "      <td>1007</td>\n",
       "      <td>MORRIS PARK AVE                               ...</td>\n",
       "      <td>10462</td>\n",
       "      <td>7188924968</td>\n",
       "      <td>8</td>\n",
       "      <td>2014-03-03 00:00:00</td>\n",
       "      <td>D</td>\n",
       "      <td>10F</td>\n",
       "      <td>2</td>\n",
       "      <td>A</td>\n",
       "      <td>2014-03-03 00:00:00</td>\n",
       "      <td>2014-09-04 06:01:28.403000000</td>\n",
       "      <td>Bakery</td>\n",
       "      <td>2014-03-03</td>\n",
       "      <td>G</td>\n",
       "      <td>10FG</td>\n",
       "      <td>Non-food contact surface improperly constructe...</td>\n",
       "    </tr>\n",
       "  </tbody>\n",
       "</table>\n",
       "</div>"
      ],
      "text/plain": [
       "      CAMIS                    DBA  BORO    BUILDING  \\\n",
       "0  30075445  MORRIS PARK BAKE SHOP     2  1007         \n",
       "\n",
       "                                              STREET  ZIPCODE       PHONE  \\\n",
       "0  MORRIS PARK AVE                               ...    10462  7188924968   \n",
       "\n",
       "   CUISINECODE             INSPDATE ACTION VIOLCODE  SCORE CURRENTGRADE  \\\n",
       "0            8  2014-03-03 00:00:00      D      10F      2            A   \n",
       "\n",
       "             GRADEDATE                     RECORDDATE CODEDESC     INSPDT  \\\n",
       "0  2014-03-03 00:00:00  2014-09-04 06:01:28.403000000   Bakery 2014-03-03   \n",
       "\n",
       "  TIMEWINDOW VC_TW                                      VIOLATIONDESC  \n",
       "0          G  10FG  Non-food contact surface improperly constructe...  "
      ]
     },
     "execution_count": 12,
     "metadata": {},
     "output_type": "execute_result"
    }
   ],
   "source": [
    "#Now we can merge both dataframes on the VC_TW field\n",
    "viol_data_fields = [\"VIOLATIONDESC\",\"VC_TW\"]\n",
    "final_data = pd.merge(merg_data,viol_data[viol_data_fields],on='VC_TW',sort=False)\n",
    "final_data.head(1)"
   ]
  },
  {
   "cell_type": "code",
   "execution_count": 13,
   "metadata": {
    "collapsed": false
   },
   "outputs": [
    {
     "data": {
      "text/plain": [
       "[(('Japanese',\n",
       "   'Food worker does not use proper utensil to eliminate bare hand contact with food that will not receive adequate additional heat treatment.'),\n",
       "  3.2441736633039722,\n",
       "  541),\n",
       " (('Caf\\xe9/Coffee/Tea',\n",
       "   '\\x93Choking first aid\\x94 poster not posted. \\x93Alcohol and pregnancy\\x94 warning sign not posted. Resuscitation equipment: exhaled air resuscitation masks (adult & pediatric), latex gloves, sign not posted. Inspection report sign not posted.'),\n",
       "  3.1528542316115793,\n",
       "  175),\n",
       " (('Juice, Smoothies, Fruit Salads',\n",
       "   'Food Protection Certificate not held by supervisor of food operations.'),\n",
       "  3.0895762870547507,\n",
       "  145),\n",
       " (('Donuts',\n",
       "   'Accurate thermometer not provided in refrigerated or hot holding equipment.'),\n",
       "  3.0373024983434593,\n",
       "  130),\n",
       " (('Ice Cream, Gelato, Yogurt, Ices',\n",
       "   'Food Protection Certificate not held by supervisor of food operations.'),\n",
       "  2.9559491371480471,\n",
       "  193),\n",
       " (('Thai', 'Thawing procedures improper.'), 2.6329943302133367, 151),\n",
       " (('Irish',\n",
       "   'Raw, cooked or prepared food is adulterated, contaminated, cross-contaminated, or not discarded in accordance with HACCP plan.'),\n",
       "  2.3693049675211078,\n",
       "  321),\n",
       " (('Mexican',\n",
       "   'Food not cooled by an approved method whereby the internal product temperature is reduced from 140\\xba F to 70\\xba F or less within 2 hours, and from 70\\xba F to 41\\xba F or less within 4 additional hours.'),\n",
       "  2.3260790831701716,\n",
       "  260),\n",
       " (('Indian',\n",
       "   'Food not cooled by an approved method whereby the internal product temperature is reduced from 140\\xba F to 70\\xba F or less within 2 hours, and from 70\\xba F to 41\\xba F or less within 4 additional hours.'),\n",
       "  2.2589839331918253,\n",
       "  112),\n",
       " (('Chinese', 'Thawing procedures improper.'), 2.197103345855651, 1121),\n",
       " (('Caribbean',\n",
       "   'Food not cooled by an approved method whereby the internal product temperature is reduced from 140\\xba F to 70\\xba F or less within 2 hours, and from 70\\xba F to 41\\xba F or less within 4 additional hours.'),\n",
       "  2.1084267631103071,\n",
       "  206),\n",
       " (('Hamburgers',\n",
       "   'Accurate thermometer not provided in refrigerated or hot holding equipment.'),\n",
       "  2.0946895908706287,\n",
       "  109),\n",
       " (('Soups & Sandwiches',\n",
       "   'Cold food item held above 41\\xba F (smoked fish and reduced oxygen packaged foods above 38 \\xbaF) except during necessary preparation.'),\n",
       "  2.0915150368737465,\n",
       "  106),\n",
       " (('Chinese',\n",
       "   'Food worker does not wash hands thoroughly after using the toilet, coughing, sneezing, smoking, eating, preparing raw foods or otherwise contaminating hands.'),\n",
       "  2.0865716798779195,\n",
       "  121),\n",
       " (('American ',\n",
       "   '\"No Smoking\\x94 and/or \\'Smoking Permitted\\x94 sign not conspicuously posted. Health warning not present on \\'Smoking Permitted\\x94'),\n",
       "  2.0798573716850686,\n",
       "  227),\n",
       " (('Donuts',\n",
       "   'Bulb not shielded or shatterproof, in areas where there is extreme heat, temperature changes, or where accidental contact may occur.'),\n",
       "  2.0648964042362259,\n",
       "  110),\n",
       " (('Middle Eastern',\n",
       "   'Food Protection Certificate not held by supervisor of food operations.'),\n",
       "  1.9850440015702,\n",
       "  117),\n",
       " (('Spanish',\n",
       "   'Food not cooled by an approved method whereby the internal product temperature is reduced from 140\\xba F to 70\\xba F or less within 2 hours, and from 70\\xba F to 41\\xba F or less within 4 additional hours.'),\n",
       "  1.9008790167390315,\n",
       "  151),\n",
       " (('Hamburgers',\n",
       "   'Filth flies or food/refuse/sewage-associated (FRSA) flies present in facility\\x92s food and/or non-food areas. Filth flies include house flies, little house flies, blow flies, bottle flies and flesh flies. Food/refuse/sewage-associated flies include fruit flies, drain flies and Phorid flies.'),\n",
       "  1.8956434541920506,\n",
       "  600),\n",
       " (('Caf\\xe9/Coffee/Tea',\n",
       "   'Toilet facility not maintained and provided with toilet paper, waste receptacle and self-closing door.'),\n",
       "  1.883642092981594,\n",
       "  315)]"
      ]
     },
     "execution_count": 13,
     "metadata": {},
     "output_type": "execute_result"
    }
   ],
   "source": [
    "# Get counts of each violation description, and threshold at 100\n",
    "cuis_viol_data = final_data.groupby('CODEDESC')['VIOLATIONDESC'].value_counts()\n",
    "viol_counts = final_data['VIOLATIONDESC'].value_counts()\n",
    "cuis_viol_thresh=cuis_viol_data[cuis_viol_data>100]\n",
    "\n",
    "# Calculate the probabilities and ratio\n",
    "total_viol = sum(cuis_viol_data)\n",
    "result = []\n",
    "for i,v in cuis_viol_thresh.iteritems():\n",
    "    cv_cnt = cuis_viol_data[i]\n",
    "    v_cnt = sum(cuis_viol_data[:,i[1]])\n",
    "    c_cnt = sum(cuis_viol_data[i[0],])\n",
    "    cp_vc = cv_cnt/(c_cnt+0.0)\n",
    "    p_v = v_cnt/(total_viol+0.0)   \n",
    "    result.append((i,cp_vc/p_v,cv_cnt))\n",
    "sorted(result,key=lambda b: b[1],reverse=True)[:20]\n"
   ]
  },
  {
   "cell_type": "markdown",
   "metadata": {
    "collapsed": false
   },
   "source": [
    "### Conclusion\n",
    "It appears the most common offense is roughly 'bare hand contact with food that will not receive adequate additional heat treatment' in Japanese restaurants. This is probably sushi handling. This particular violation occurs 3 times more in Japanese restaurants than in all restaurants combined.\n",
    "\n",
    "Towards the bottom of the list is one of the more offensive violations: *Filth flies*. It is much more likely to occur in Hamburger joints than other restaurants. There were 600 cited violations of this code for Hamburger restaurants!\n",
    "\n",
    "Bon appetit."
   ]
  }
 ],
 "metadata": {
  "kernelspec": {
   "display_name": "Python 2",
   "language": "python",
   "name": "python2"
  },
  "language_info": {
   "codemirror_mode": {
    "name": "ipython",
    "version": 2
   },
   "file_extension": ".py",
   "mimetype": "text/x-python",
   "name": "python",
   "nbconvert_exporter": "python",
   "pygments_lexer": "ipython2",
   "version": "2.7.6"
  }
 },
 "nbformat": 4,
 "nbformat_minor": 0
}
